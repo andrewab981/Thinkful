{
 "cells": [
  {
   "cell_type": "markdown",
   "metadata": {},
   "source": [
    "# What Models Do Assignment\n",
    "    1. Try to model the result of a coin toss. In your model, include any features that you think important in explaining the result. Discuss with your mentor about the pros and cons of adding too many features into your model.\n",
    "    2. If you ever used Netflix, you should already have realized that it provides some recommendations for you to watch. In data science, this is an example of the so-called recommendations systems. Read this nontechnical blog post of Netflix about how they model their recommendations systems. Then, derive the features they use in their recommendations engines and discuss what else can be incorporated into this model.\n",
    "    \n",
    "## 1. Coin Toss Features\n",
    "This model is to accurately guess the results of a coin toss, whether heads or tails. Some features of the model are the following:\n",
    "    \n",
    "    1. Weight of Coin\n",
    "    2. Force of the coin toss\n",
    "    3. Angle of the toss\n",
    "    4. What side of the coin was face up before flip\n",
    "    5. Air resistance\n",
    "\n",
    "## 2 Netflix Recommendation System\n",
    "After reading the article discussing how Netflix Recommendation system work the following items were derived from their model:\n",
    "\n",
    "    1. Viewing History and Title Rating\n",
    "    2. Genre, Categories, Actors, Release Year\n",
    "    3. Length of time spend watching\n",
    "    4. Correlation of Member Tastes\n",
    "    "
   ]
  }
 ],
 "metadata": {
  "kernelspec": {
   "display_name": "Python 3",
   "language": "python",
   "name": "python3"
  },
  "language_info": {
   "codemirror_mode": {
    "name": "ipython",
    "version": 3
   },
   "file_extension": ".py",
   "mimetype": "text/x-python",
   "name": "python",
   "nbconvert_exporter": "python",
   "pygments_lexer": "ipython3",
   "version": "3.7.3"
  }
 },
 "nbformat": 4,
 "nbformat_minor": 2
}
