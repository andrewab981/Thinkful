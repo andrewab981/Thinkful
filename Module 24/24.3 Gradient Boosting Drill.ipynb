{
 "cells": [
  {
   "cell_type": "markdown",
   "metadata": {},
   "source": [
    "# DRILL: Improve this gradient boost model\n",
    "\n",
    "While this model is already doing alright, we've seen from the Type I and Type II error rates that there is definitely room for improvement.  Your task is to see how low you can get the error rates to go in the test set, based on your model in the training set.  Strategies you might use include:\n",
    "\n",
    "* Creating new features\n",
    "* Applying more overfitting-prevention strategies like subsampling\n",
    "* More iterations\n",
    "* Trying a different loss function\n",
    "* Changing the structure of the weak learner: Allowing more leaves in the tree, or other modifications\n",
    "\n",
    "## Import the Data\n",
    "The data is the European Social Survey (ESS) for over 30 countries. It's three aims are to:\n",
    "    1. Monitor and interpret changing public attitudes and values within Europe and investigate how they interact with Europe's  changing institutions.\n",
    "    2. To advance and consolidate improved methods of cross-national survey measurement in Europe\n",
    "    3. Develop a series of European social indicators including attitudinal indicators"
   ]
  },
  {
   "cell_type": "code",
   "execution_count": 1,
   "metadata": {},
   "outputs": [],
   "source": [
    "import pandas as pd\n",
    "import numpy as np\n",
    "import scipy \n",
    "import matplotlib.pyplot as plt\n",
    "import seaborn as sns\n",
    "\n",
    "from sklearn import ensemble\n",
    "from sklearn import datasets\n",
    "from sklearn.utils import shuffle\n",
    "from sklearn.metrics import mean_squared_error\n",
    "\n",
    "import warnings\n",
    "%matplotlib inline\n",
    "warnings.filterwarnings('ignore')"
   ]
  },
  {
   "cell_type": "code",
   "execution_count": 2,
   "metadata": {
    "scrolled": true
   },
   "outputs": [
    {
     "data": {
      "text/html": [
       "<div>\n",
       "<style scoped>\n",
       "    .dataframe tbody tr th:only-of-type {\n",
       "        vertical-align: middle;\n",
       "    }\n",
       "\n",
       "    .dataframe tbody tr th {\n",
       "        vertical-align: top;\n",
       "    }\n",
       "\n",
       "    .dataframe thead th {\n",
       "        text-align: right;\n",
       "    }\n",
       "</style>\n",
       "<table border=\"1\" class=\"dataframe\">\n",
       "  <thead>\n",
       "    <tr style=\"text-align: right;\">\n",
       "      <th></th>\n",
       "      <th>cntry</th>\n",
       "      <th>idno</th>\n",
       "      <th>year</th>\n",
       "      <th>tvtot</th>\n",
       "      <th>ppltrst</th>\n",
       "      <th>pplfair</th>\n",
       "      <th>pplhlp</th>\n",
       "      <th>happy</th>\n",
       "      <th>sclmeet</th>\n",
       "      <th>sclact</th>\n",
       "      <th>gndr</th>\n",
       "      <th>agea</th>\n",
       "      <th>partner</th>\n",
       "    </tr>\n",
       "  </thead>\n",
       "  <tbody>\n",
       "    <tr>\n",
       "      <th>0</th>\n",
       "      <td>CH</td>\n",
       "      <td>5.0</td>\n",
       "      <td>6</td>\n",
       "      <td>3.0</td>\n",
       "      <td>3.0</td>\n",
       "      <td>10.0</td>\n",
       "      <td>5.0</td>\n",
       "      <td>8.0</td>\n",
       "      <td>5.0</td>\n",
       "      <td>4.0</td>\n",
       "      <td>2.0</td>\n",
       "      <td>60.0</td>\n",
       "      <td>1.0</td>\n",
       "    </tr>\n",
       "    <tr>\n",
       "      <th>1</th>\n",
       "      <td>CH</td>\n",
       "      <td>25.0</td>\n",
       "      <td>6</td>\n",
       "      <td>6.0</td>\n",
       "      <td>5.0</td>\n",
       "      <td>7.0</td>\n",
       "      <td>5.0</td>\n",
       "      <td>9.0</td>\n",
       "      <td>3.0</td>\n",
       "      <td>2.0</td>\n",
       "      <td>2.0</td>\n",
       "      <td>59.0</td>\n",
       "      <td>1.0</td>\n",
       "    </tr>\n",
       "    <tr>\n",
       "      <th>2</th>\n",
       "      <td>CH</td>\n",
       "      <td>26.0</td>\n",
       "      <td>6</td>\n",
       "      <td>1.0</td>\n",
       "      <td>8.0</td>\n",
       "      <td>8.0</td>\n",
       "      <td>8.0</td>\n",
       "      <td>7.0</td>\n",
       "      <td>6.0</td>\n",
       "      <td>3.0</td>\n",
       "      <td>1.0</td>\n",
       "      <td>24.0</td>\n",
       "      <td>2.0</td>\n",
       "    </tr>\n",
       "    <tr>\n",
       "      <th>3</th>\n",
       "      <td>CH</td>\n",
       "      <td>28.0</td>\n",
       "      <td>6</td>\n",
       "      <td>4.0</td>\n",
       "      <td>6.0</td>\n",
       "      <td>6.0</td>\n",
       "      <td>7.0</td>\n",
       "      <td>10.0</td>\n",
       "      <td>6.0</td>\n",
       "      <td>2.0</td>\n",
       "      <td>2.0</td>\n",
       "      <td>64.0</td>\n",
       "      <td>1.0</td>\n",
       "    </tr>\n",
       "    <tr>\n",
       "      <th>4</th>\n",
       "      <td>CH</td>\n",
       "      <td>29.0</td>\n",
       "      <td>6</td>\n",
       "      <td>5.0</td>\n",
       "      <td>6.0</td>\n",
       "      <td>7.0</td>\n",
       "      <td>5.0</td>\n",
       "      <td>8.0</td>\n",
       "      <td>7.0</td>\n",
       "      <td>2.0</td>\n",
       "      <td>2.0</td>\n",
       "      <td>55.0</td>\n",
       "      <td>1.0</td>\n",
       "    </tr>\n",
       "  </tbody>\n",
       "</table>\n",
       "</div>"
      ],
      "text/plain": [
       "  cntry  idno  year  tvtot  ppltrst  pplfair  pplhlp  happy  sclmeet  sclact  \\\n",
       "0    CH   5.0     6    3.0      3.0     10.0     5.0    8.0      5.0     4.0   \n",
       "1    CH  25.0     6    6.0      5.0      7.0     5.0    9.0      3.0     2.0   \n",
       "2    CH  26.0     6    1.0      8.0      8.0     8.0    7.0      6.0     3.0   \n",
       "3    CH  28.0     6    4.0      6.0      6.0     7.0   10.0      6.0     2.0   \n",
       "4    CH  29.0     6    5.0      6.0      7.0     5.0    8.0      7.0     2.0   \n",
       "\n",
       "   gndr  agea  partner  \n",
       "0   2.0  60.0      1.0  \n",
       "1   2.0  59.0      1.0  \n",
       "2   1.0  24.0      2.0  \n",
       "3   2.0  64.0      1.0  \n",
       "4   2.0  55.0      1.0  "
      ]
     },
     "execution_count": 2,
     "metadata": {},
     "output_type": "execute_result"
    }
   ],
   "source": [
    "df = pd.read_csv((\n",
    "    \"https://raw.githubusercontent.com/Thinkful-Ed/data-201-resources/\"\n",
    "    \"master/ESS_practice_data/ESSdata_Thinkful.csv\")).dropna()\n",
    "\n",
    "df.head()"
   ]
  },
  {
   "cell_type": "markdown",
   "metadata": {},
   "source": [
    "# Model 1: Gradient Boosting Model\n",
    "The target variable that we are trying to model is whether a person has a partner or not. The features are all the other variables except for 'idno', which is the users ID number. The results of this model was surprisingly pretty good considering that no adjustments have been made to the data. According to the model, the most important features to whether someone has a partner or not is their age, happiness level, and social activity. Additionally, it is noted that there are 5000 people without a partner and 3000 people with a partner. "
   ]
  },
  {
   "cell_type": "code",
   "execution_count": 3,
   "metadata": {},
   "outputs": [],
   "source": [
    "# define outcome and predictors\n",
    "# Set our outcome to 0 and 1\n",
    "Y = df['partner'] -1\n",
    "X = df.loc[:, ~df.columns.isin(['partner', 'cntry', 'idno'])]\n",
    "\n",
    "# Make the categorical variable 'country' into dummies\n",
    "X = pd.concat([X, pd.get_dummies(df['cntry'])], axis=1)\n",
    "\n",
    "from sklearn.model_selection import train_test_split\n",
    "\n",
    "# Create trainging and test sets \n",
    "X_train, X_test, Y_train, Y_test = train_test_split(X, Y, test_size=.1, random_state=1)\n",
    "\n",
    "# Make 500 iterations, use 2-deep trees, and set our loss function\n",
    "params = {'n_estimators': 500,\n",
    "         'max_depth': 2,\n",
    "         'loss': 'deviance'}\n",
    "\n",
    "# Initialize and fit the model\n",
    "clf = ensemble.GradientBoostingClassifier(**params)\n",
    "clf.fit(X_train, Y_train)\n",
    "\n",
    "predict_train = clf.predict(X_train)\n",
    "predict_test = clf.predict(X_test)"
   ]
  },
  {
   "cell_type": "code",
   "execution_count": 4,
   "metadata": {},
   "outputs": [
    {
     "data": {
      "image/png": "[encoded data removed]",
      "text/plain": [
       "<Figure size 1080x360 with 4 Axes>"
      ]
     },
     "metadata": {
      "needs_background": "light"
     },
     "output_type": "display_data"
    },
    {
     "name": "stdout",
     "output_type": "stream",
     "text": [
      "Accuracy Score of Training Set: 0.776595744680851\n",
      "Accuracy Score of Test Set: 0.7656441717791411\n"
     ]
    }
   ],
   "source": [
    "from sklearn.metrics import confusion_matrix\n",
    "from sklearn.metrics import accuracy_score\n",
    "\n",
    "# create heatmap of confusion matrix\n",
    "plt.figure(figsize=(15,5))\n",
    "plt.subplot(1, 2, 1)\n",
    "sns.heatmap(confusion_matrix(Y_train, predict_train), annot=True, fmt='g')\n",
    "\n",
    "plt.ylabel('True Label')\n",
    "plt.xlabel('Predicted Label')\n",
    "plt.title('Confusion Matrix of Training Set')\n",
    "\n",
    "plt.subplot(1, 2, 2)\n",
    "sns.heatmap(confusion_matrix(Y_test, predict_test), annot=True, fmt='g')\n",
    "\n",
    "plt.ylabel('True Label')\n",
    "plt.xlabel('Predicted Label')\n",
    "plt.title('Confusion Matrix of Test Set')\n",
    "\n",
    "plt.show()\n",
    "\n",
    "# Print Accuracy Score\n",
    "print('Accuracy Score of Training Set: {}'.format(accuracy_score(Y_train, predict_train)))\n",
    "print('Accuracy Score of Test Set: {}'.format(accuracy_score(Y_test, predict_test)))"
   ]
  },
  {
   "cell_type": "code",
   "execution_count": 5,
   "metadata": {},
   "outputs": [
    {
     "data": {
      "image/png": "[encoded data removed]",
      "text/plain": [
       "<Figure size 432x288 with 1 Axes>"
      ]
     },
     "metadata": {
      "needs_background": "light"
     },
     "output_type": "display_data"
    }
   ],
   "source": [
    "feature_importance = clf.feature_importances_\n",
    "feature_importance = 100.0 * (feature_importance / feature_importance.max())\n",
    "\n",
    "# Make importances relative to max importance\n",
    "sorted_idx = np.argsort(feature_importance)\n",
    "pos = np.arange(sorted_idx.shape[0]) + .5\n",
    "plt.barh(pos, feature_importance[sorted_idx], align='center')\n",
    "plt.yticks(pos, X.columns[sorted_idx])\n",
    "plt.xlabel('Relative Importance')\n",
    "plt.title('Variable Importance')\n",
    "plt.show()"
   ]
  },
  {
   "cell_type": "markdown",
   "metadata": {},
   "source": [
    "It appears that age and happiness are the most important features in predicting whether or not someone lives with a partner."
   ]
  },
  {
   "cell_type": "code",
   "execution_count": 6,
   "metadata": {},
   "outputs": [
    {
     "data": {
      "image/png": "[encoded data removed]",
      "text/plain": [
       "<Figure size 432x288 with 1 Axes>"
      ]
     },
     "metadata": {
      "needs_background": "light"
     },
     "output_type": "display_data"
    }
   ],
   "source": [
    "# Plot the counts of the target variable\n",
    "sns.countplot(Y)\n",
    "plt.title('Count of Partner')\n",
    "plt.xlabel('Partner')\n",
    "plt.ylabel('Count')\n",
    "plt.show()"
   ]
  },
  {
   "cell_type": "markdown",
   "metadata": {},
   "source": [
    "# Improving the Model\n",
    "There were a couple areas that the original model can be improved on. First, the features can be normalized this will give equal weight to all the features. Second, the minority group is people that have a partner. This can be fixed with oversampling the minority gorup. Lastly, we can adjust the parameters within the gradient boosting model to maximize the results. \n",
    "\n",
    "## Model 2: Normalize the Features\n",
    "Surprisingly, there was only a slight improvement in this model in comparison to the first model. The key cahnge is that the training results were slightly better but the test results did not change. Note that overfittment could be an issue. "
   ]
  },
  {
   "cell_type": "code",
   "execution_count": 7,
   "metadata": {
    "scrolled": true
   },
   "outputs": [],
   "source": [
    "X = df.loc[:, ~df.columns.isin(['partner', 'cntry', 'idno'])]\n",
    "\n",
    "# Make the categorical variable 'country' into dummies\n",
    "X = pd.concat([X, pd.get_dummies(df['cntry'])], axis=1)\n",
    "\n",
    "from sklearn.preprocessing import normalize\n",
    "X = normalize(X)\n",
    "\n",
    "# Create trainging and test sets \n",
    "X_train, X_test, Y_train, Y_test = train_test_split(X, Y, test_size=.1, random_state=1)\n",
    "\n",
    "# Make 500 iterations, use 2-deep trees, and set our loss function\n",
    "params = {'n_estimators': 500,\n",
    "         'max_depth': 2,\n",
    "         'loss': 'deviance'}\n",
    "\n",
    "# Initialize and fit the model\n",
    "clf = ensemble.GradientBoostingClassifier(**params)\n",
    "clf.fit(X_train, Y_train)\n",
    "\n",
    "predict_train = clf.predict(X_train)\n",
    "predict_test = clf.predict(X_test)"
   ]
  },
  {
   "cell_type": "code",
   "execution_count": 8,
   "metadata": {
    "scrolled": true
   },
   "outputs": [
    {
     "data": {
      "image/png": "[encoded data removed]",
      "text/plain": [
       "<Figure size 1080x360 with 4 Axes>"
      ]
     },
     "metadata": {
      "needs_background": "light"
     },
     "output_type": "display_data"
    },
    {
     "name": "stdout",
     "output_type": "stream",
     "text": [
      "Accuracy Score of Training Set: 0.8019639934533551\n",
      "Accuracy Score of Test Set: 0.7595092024539877\n"
     ]
    }
   ],
   "source": [
    "# create heatmap of confusion matrix\n",
    "plt.figure(figsize=(15,5))\n",
    "plt.subplot(1, 2, 1)\n",
    "sns.heatmap(confusion_matrix(Y_train, predict_train), annot=True, fmt='g')\n",
    "\n",
    "plt.ylabel('True Label')\n",
    "plt.xlabel('Predicted Label')\n",
    "plt.title('Confusion Matrix of Training Set')\n",
    "\n",
    "plt.subplot(1, 2, 2)\n",
    "sns.heatmap(confusion_matrix(Y_test, predict_test), annot=True, fmt='g')\n",
    "\n",
    "plt.ylabel('True Label')\n",
    "plt.xlabel('Predicted Label')\n",
    "plt.title('Confusion Matrix of Test Set')\n",
    "\n",
    "plt.show()\n",
    "\n",
    "# Print Accuracy Score\n",
    "print('Accuracy Score of Training Set: {}'.format(accuracy_score(Y_train, predict_train)))\n",
    "print('Accuracy Score of Test Set: {}'.format(accuracy_score(Y_test, predict_test)))"
   ]
  },
  {
   "cell_type": "markdown",
   "metadata": {},
   "source": [
    "# Model 3: Oversample with Partners\n",
    "In this model the features were not normalized, and it performed in line with the prior models. Note that there is no overfittment issues with this model. "
   ]
  },
  {
   "cell_type": "code",
   "execution_count": 9,
   "metadata": {},
   "outputs": [
    {
     "data": {
      "text/plain": [
       "2.0    5013\n",
       "1.0    5013\n",
       "Name: partner, dtype: int64"
      ]
     },
     "execution_count": 9,
     "metadata": {},
     "output_type": "execute_result"
    }
   ],
   "source": [
    "single, partner = df['partner'].value_counts()\n",
    "\n",
    "# Divide by Class\n",
    "df_single = df[df['partner']==1]\n",
    "df_partner = df[df['partner']==2]\n",
    "\n",
    "# Increase the sample of partners\n",
    "df_partner_over = df_partner.sample(single, replace=True)\n",
    "\n",
    "# Append to Dataframe\n",
    "df_over = pd.concat([df_single, df_partner_over], axis=0)\n",
    "\n",
    "# Count of values\n",
    "df_over['partner'].value_counts()"
   ]
  },
  {
   "cell_type": "code",
   "execution_count": 10,
   "metadata": {},
   "outputs": [],
   "source": [
    "# define outcome and predictors\n",
    "# Set our outcome to 0 and 1\n",
    "Y = df_over['partner'] -1\n",
    "X = df_over.loc[:, ~df_over.columns.isin(['partner', 'cntry', 'idno'])]\n",
    "\n",
    "# Make the categorical variable 'country' into dummies\n",
    "X = pd.concat([X, pd.get_dummies(df_over['cntry'])], axis=1)\n",
    "\n",
    "# Create trainging and test sets \n",
    "X_train, X_test, Y_train, Y_test = train_test_split(X, Y, test_size=.1, random_state=1)\n",
    "\n",
    "# Make 500 iterations, use 2-deep trees, and set our loss function\n",
    "params = {'n_estimators': 500,\n",
    "         'max_depth': 2,\n",
    "         'loss': 'deviance'}\n",
    "\n",
    "# Initialize and fit the model\n",
    "clf = ensemble.GradientBoostingClassifier(**params)\n",
    "clf.fit(X_train, Y_train)\n",
    "\n",
    "predict_train = clf.predict(X_train)\n",
    "predict_test = clf.predict(X_test)"
   ]
  },
  {
   "cell_type": "code",
   "execution_count": 11,
   "metadata": {},
   "outputs": [
    {
     "data": {
      "image/png": "[encoded data removed]",
      "text/plain": [
       "<Figure size 1080x360 with 4 Axes>"
      ]
     },
     "metadata": {
      "needs_background": "light"
     },
     "output_type": "display_data"
    },
    {
     "name": "stdout",
     "output_type": "stream",
     "text": [
      "Accuracy Score of Training Set: 0.7509697439875873\n",
      "Accuracy Score of Test Set: 0.7457627118644068\n"
     ]
    }
   ],
   "source": [
    "# create heatmap of confusion matrix\n",
    "plt.figure(figsize=(15,5))\n",
    "plt.subplot(1, 2, 1)\n",
    "sns.heatmap(confusion_matrix(Y_train, predict_train), annot=True, fmt='g')\n",
    "\n",
    "plt.ylabel('True Label')\n",
    "plt.xlabel('Predicted Label')\n",
    "plt.title('Confusion Matrix of Training Set')\n",
    "\n",
    "plt.subplot(1, 2, 2)\n",
    "sns.heatmap(confusion_matrix(Y_test, predict_test), annot=True, fmt='g')\n",
    "\n",
    "plt.ylabel('True Label')\n",
    "plt.xlabel('Predicted Label')\n",
    "plt.title('Confusion Matrix of Test Set')\n",
    "\n",
    "plt.show()\n",
    "\n",
    "# Print Accuracy Score\n",
    "print('Accuracy Score of Training Set: {}'.format(accuracy_score(Y_train, predict_train)))\n",
    "print('Accuracy Score of Test Set: {}'.format(accuracy_score(Y_test, predict_test)))"
   ]
  },
  {
   "cell_type": "markdown",
   "metadata": {},
   "source": [
    "# Model 4: Normalization with Oversampling\n",
    "No noteable changes in this model from the previous models."
   ]
  },
  {
   "cell_type": "code",
   "execution_count": 12,
   "metadata": {},
   "outputs": [],
   "source": [
    "# define outcome and predictors\n",
    "# Set our outcome to 0 and 1\n",
    "Y = df_over['partner'] -1\n",
    "X = df_over.loc[:, ~df_over.columns.isin(['partner', 'cntry', 'idno'])]\n",
    "\n",
    "# Make the categorical variable 'country' into dummies\n",
    "X = pd.concat([X, pd.get_dummies(df_over['cntry'])], axis=1)\n",
    "\n",
    "# Normalize the feature set\n",
    "X = normalize(X)\n",
    "\n",
    "# Create trainging and test sets \n",
    "X_train, X_test, Y_train, Y_test = train_test_split(X, Y, test_size=.1, random_state=1)\n",
    "\n",
    "# Make 500 iterations, use 2-deep trees, and set our loss function\n",
    "params = {'n_estimators': 500,\n",
    "         'max_depth': 2,\n",
    "         'loss': 'deviance'}\n",
    "\n",
    "# Initialize and fit the model\n",
    "clf = ensemble.GradientBoostingClassifier(**params)\n",
    "clf.fit(X_train, Y_train)\n",
    "\n",
    "predict_train = clf.predict(X_train)\n",
    "predict_test = clf.predict(X_test)"
   ]
  },
  {
   "cell_type": "code",
   "execution_count": 13,
   "metadata": {},
   "outputs": [
    {
     "data": {
      "image/png": "[encoded data removed]",
      "text/plain": [
       "<Figure size 1080x360 with 4 Axes>"
      ]
     },
     "metadata": {
      "needs_background": "light"
     },
     "output_type": "display_data"
    },
    {
     "name": "stdout",
     "output_type": "stream",
     "text": [
      "Accuracy Score of Training Set: 0.7949684140529757\n",
      "Accuracy Score of Test Set: 0.7587238285144566\n"
     ]
    }
   ],
   "source": [
    "# create heatmap of confusion matrix\n",
    "plt.figure(figsize=(15,5))\n",
    "plt.subplot(1, 2, 1)\n",
    "sns.heatmap(confusion_matrix(Y_train, predict_train), annot=True, fmt='g')\n",
    "\n",
    "plt.ylabel('True Label')\n",
    "plt.xlabel('Predicted Label')\n",
    "plt.title('Confusion Matrix of Training Set')\n",
    "\n",
    "plt.subplot(1, 2, 2)\n",
    "sns.heatmap(confusion_matrix(Y_test, predict_test), annot=True, fmt='g')\n",
    "\n",
    "plt.ylabel('True Label')\n",
    "plt.xlabel('Predicted Label')\n",
    "plt.title('Confusion Matrix of Test Set')\n",
    "\n",
    "plt.show()\n",
    "\n",
    "# Print Accuracy Score\n",
    "print('Accuracy Score of Training Set: {}'.format(accuracy_score(Y_train, predict_train)))\n",
    "print('Accuracy Score of Test Set: {}'.format(accuracy_score(Y_test, predict_test)))"
   ]
  },
  {
   "cell_type": "markdown",
   "metadata": {},
   "source": [
    "# Hyperparameters\n",
    "All the prior models were pretty lackluster. Lets loop through each of the parameters within the gradient boosting model to create the best model with the best accuracy. The first set of parameters choosen to optimize is the n_estimators and the max_depth. These parameters will drastically boost the accuracy of the model at the expense of overfitting. The next set of parameters, subsample and learning rates, will tackle and reduce the overfitment issues. "
   ]
  },
  {
   "cell_type": "code",
   "execution_count": 14,
   "metadata": {},
   "outputs": [],
   "source": [
    "# define outcome and predictors\n",
    "# Set our outcome to 0 and 1\n",
    "Y = df_over['partner'] -1\n",
    "X = df_over.loc[:, ~df_over.columns.isin(['partner', 'cntry', 'idno'])]\n",
    "\n",
    "# Make the categorical variable 'country' into dummies\n",
    "X = pd.concat([X, pd.get_dummies(df_over['cntry'])], axis=1)\n",
    "\n",
    "# Normalize the feature set\n",
    "X = normalize(X)\n",
    "\n",
    "# Create trainging and test sets \n",
    "X_train, X_test, Y_train, Y_test = train_test_split(X, Y, test_size=.1, random_state=1)"
   ]
  },
  {
   "cell_type": "code",
   "execution_count": 15,
   "metadata": {},
   "outputs": [
    {
     "name": "stdout",
     "output_type": "stream",
     "text": [
      "Test Accuracy: 0.7846460618145563 \n",
      "n_estimators: 900\n",
      "\n",
      "--- 25.61856985092163 seconds ---\n"
     ]
    }
   ],
   "source": [
    "import time\n",
    "\n",
    "# Time the runtime of the decision tree\n",
    "start_time = time.time()\n",
    "\n",
    "# Variable for test accuracy\n",
    "score = 0\n",
    "\n",
    "# Iterate through range and replace n_estimators\n",
    "for x in range(100, 1000, 100):\n",
    "    params = {'n_estimators': x,\n",
    "                'max_depth': 2,\n",
    "                'loss': 'deviance',\n",
    "                'subsample': 1,\n",
    "                 'learning_rate': .1}\n",
    "    \n",
    "    # Initialize and fit the model\n",
    "    clf = ensemble.GradientBoostingClassifier(**params)\n",
    "    clf.fit(X_train, Y_train)\n",
    "\n",
    "    predict_test = clf.predict(X_test)\n",
    "    \n",
    "    # Append best scores to variables\n",
    "    if accuracy_score(Y_test, predict_test) > score:\n",
    "        score = accuracy_score(Y_test, predict_test)\n",
    "        best_est = x\n",
    "\n",
    "# Print best results           \n",
    "print('Test Accuracy: {} \\nn_estimators: {}'.format(score, best_est))\n",
    "print(\"\\n--- %s seconds ---\" % (time.time() - start_time))"
   ]
  },
  {
   "cell_type": "code",
   "execution_count": 16,
   "metadata": {},
   "outputs": [
    {
     "name": "stdout",
     "output_type": "stream",
     "text": [
      "Test Accuracy: 0.8933200398803589 \n",
      "n_estimators: 900\n",
      "max_depth: 9\n",
      "\n",
      "--- 154.85938620567322 seconds ---\n"
     ]
    }
   ],
   "source": [
    "# Time the runtime of the decision tree\n",
    "start_time = time.time()\n",
    "\n",
    "# Iterate through range and replace max_depth\n",
    "for x in range(1, 10, 1):\n",
    "    params = {'n_estimators': best_est,\n",
    "            'max_depth': x,\n",
    "            'loss': 'deviance',\n",
    "            'subsample': 1,\n",
    "             'learning_rate': .1}\n",
    "    \n",
    "    # Initialize and fit the model\n",
    "    clf = ensemble.GradientBoostingClassifier(**params)\n",
    "    clf.fit(X_train, Y_train)\n",
    "\n",
    "    predict_test = clf.predict(X_test)\n",
    "    \n",
    "    # Append best scores to variables\n",
    "    if accuracy_score(Y_test, predict_test) > score:\n",
    "        score = accuracy_score(Y_test, predict_test)\n",
    "        best_depth = x\n",
    "\n",
    "# Print best results           \n",
    "print('Test Accuracy: {} \\nn_estimators: {}'.format(score, best_est)+\n",
    "     '\\nmax_depth: {}'.format(best_depth))\n",
    "print(\"\\n--- %s seconds ---\" % (time.time() - start_time))        "
   ]
  },
  {
   "cell_type": "code",
   "execution_count": 17,
   "metadata": {},
   "outputs": [
    {
     "name": "stdout",
     "output_type": "stream",
     "text": [
      "Test Accuracy: 0.8963110667996012 \n",
      "n_estimators: 900\n",
      "sub_sample: 0.7 \n",
      "max_depth: 9\n",
      "\n",
      "--- 531.3749911785126 seconds ---\n"
     ]
    }
   ],
   "source": [
    "# Time the runtime of the decision tree\n",
    "start_time = time.time()\n",
    "\n",
    "# Iterate through range and replace subsample\n",
    "for x in range(25, 100, 5):\n",
    "    x = x / 100\n",
    "    params = {'n_estimators': best_est,\n",
    "                'max_depth': best_depth,\n",
    "                'loss': 'deviance',\n",
    "                'subsample': x,\n",
    "                 'learning_rate': .1}\n",
    "    \n",
    "    # Initialize and fit the model\n",
    "    clf = ensemble.GradientBoostingClassifier(**params)\n",
    "    clf.fit(X_train, Y_train)\n",
    "\n",
    "    predict_test = clf.predict(X_test)\n",
    "    \n",
    "    # Append best scores to variables\n",
    "    if accuracy_score(Y_test, predict_test) > score:\n",
    "        score = accuracy_score(Y_test, predict_test)\n",
    "        best_subsample = x\n",
    "\n",
    "# Print best results        \n",
    "print('Test Accuracy: {} \\nn_estimators: {}'.format(score, best_est)+\n",
    "     '\\nsub_sample: {} \\nmax_depth: {}'.format(best_subsample, best_depth))\n",
    "print(\"\\n--- %s seconds ---\" % (time.time() - start_time))"
   ]
  },
  {
   "cell_type": "code",
   "execution_count": 20,
   "metadata": {},
   "outputs": [
    {
     "name": "stdout",
     "output_type": "stream",
     "text": [
      "Test Accuracy: 0.8983050847457628 \n",
      "n_estimators: 900\n",
      "sub_sample: 0.7 \n",
      "max_depth: 9\n",
      "learning_rate: 0.13\n",
      "\n",
      "--- 706.7811918258667 seconds ---\n"
     ]
    }
   ],
   "source": [
    "# Time the runtime of the decision tree\n",
    "start_time = time.time()\n",
    "\n",
    "best_learn = .1\n",
    "\n",
    "# Iterate through range and replace learning_rate\n",
    "for x in range(1, 20, 1):\n",
    "    x = x / 100\n",
    "    params = {'n_estimators': best_est,\n",
    "            'max_depth': best_depth,\n",
    "            'loss': 'deviance',\n",
    "            'subsample': best_subsample,\n",
    "             'learning_rate': x}\n",
    "    \n",
    "    # Initialize and fit the model\n",
    "    clf = ensemble.GradientBoostingClassifier(**params)\n",
    "    clf.fit(X_train, Y_train)\n",
    "\n",
    "    predict_test = clf.predict(X_test)\n",
    "    \n",
    "    # Append best scores to variables\n",
    "    if accuracy_score(Y_test, predict_test) > score:\n",
    "        score = accuracy_score(Y_test, predict_test)\n",
    "        best_learn = x\n",
    "\n",
    "# Print best results           \n",
    "print('Test Accuracy: {} \\nn_estimators: {}'.format(score, best_est)+\n",
    "     '\\nsub_sample: {} \\nmax_depth: {}'.format(best_subsample, best_depth)+\n",
    "     '\\nlearning_rate: {}'.format(best_learn))\n",
    "print(\"\\n--- %s seconds ---\" % (time.time() - start_time))        "
   ]
  },
  {
   "cell_type": "markdown",
   "metadata": {},
   "source": [
    "# Model 5: Hyperparameters with Oversampling and Normalization\n",
    "This model was the most accurate model so far with 100% of the training set being classified correctly. Unfortunately, even with the best hyperparameters the data is overfitted with the accuracy of the test group being 89%. As noted in prior models the normalization of the data created a slight overfitment. With the large number of estimators and depth its easy to see how the model became even more overfitted. Lets try a hyperparameter model without the normalization to see if it improves the overfitment issue. "
   ]
  },
  {
   "cell_type": "code",
   "execution_count": 21,
   "metadata": {},
   "outputs": [],
   "source": [
    "# Hyperparameters\n",
    "params = {'n_estimators': best_est,\n",
    "                'max_depth': best_depth,\n",
    "                'loss': 'deviance',\n",
    "                'subsample': best_subsample,\n",
    "                 'learning_rate': best_learn}\n",
    "\n",
    "# Initialize and fit the model\n",
    "clf = ensemble.GradientBoostingClassifier(**params)\n",
    "clf.fit(X_train, Y_train)\n",
    "\n",
    "predict_train = clf.predict(X_train)\n",
    "predict_test = clf.predict(X_test)"
   ]
  },
  {
   "cell_type": "code",
   "execution_count": 22,
   "metadata": {
    "scrolled": true
   },
   "outputs": [
    {
     "data": {
      "image/png": "[encoded data removed]",
      "text/plain": [
       "<Figure size 1080x360 with 4 Axes>"
      ]
     },
     "metadata": {
      "needs_background": "light"
     },
     "output_type": "display_data"
    },
    {
     "name": "stdout",
     "output_type": "stream",
     "text": [
      "Accuracy Score of Training Set: 1.0\n",
      "Accuracy Score of Test Set: 0.8933200398803589\n"
     ]
    }
   ],
   "source": [
    "# create heatmap of confusion matrix\n",
    "plt.figure(figsize=(15,5))\n",
    "plt.subplot(1, 2, 1)\n",
    "sns.heatmap(confusion_matrix(Y_train, predict_train), annot=True, fmt='g')\n",
    "\n",
    "plt.ylabel('True Label')\n",
    "plt.xlabel('Predicted Label')\n",
    "plt.title('Confusion Matrix of Training Set')\n",
    "\n",
    "plt.subplot(1, 2, 2)\n",
    "sns.heatmap(confusion_matrix(Y_test, predict_test), annot=True, fmt='g')\n",
    "\n",
    "plt.ylabel('True Label')\n",
    "plt.xlabel('Predicted Label')\n",
    "plt.title('Confusion Matrix of Test Set')\n",
    "\n",
    "plt.show()\n",
    "\n",
    "# Print Accuracy Score\n",
    "print('Accuracy Score of Training Set: {}'.format(accuracy_score(Y_train, predict_train)))\n",
    "print('Accuracy Score of Test Set: {}'.format(accuracy_score(Y_test, predict_test)))"
   ]
  },
  {
   "cell_type": "markdown",
   "metadata": {},
   "source": [
    "# Summary and Conclusion\n",
    "This drill was an excellent example of the effects of increasing the accuracy of a gradient boosting model has on the overfitment of the model. Model 5 was the best performing model, but it came at the cost of overfitment. It was a good experience to find the hyperparameters of a model based on specific results ie. least overfitted, and how to optimize that search to take the least amount of time."
   ]
  }
 ],
 "metadata": {
  "kernelspec": {
   "display_name": "Python 3",
   "language": "python",
   "name": "python3"
  },
  "language_info": {
   "codemirror_mode": {
    "name": "ipython",
    "version": 3
   },
   "file_extension": ".py",
   "mimetype": "text/x-python",
   "name": "python",
   "nbconvert_exporter": "python",
   "pygments_lexer": "ipython3",
   "version": "3.7.3"
  }
 },
 "nbformat": 4,
 "nbformat_minor": 2
}
