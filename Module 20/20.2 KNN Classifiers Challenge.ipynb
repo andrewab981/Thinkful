{
 "cells": [
  {
   "cell_type": "markdown",
   "metadata": {},
   "source": [
    "# 20.2 KNN Classifiers Challenge\n",
    "## Challenge: Implement the Nearest Neighbor algorithm \n",
    "\n",
    "The Nearest Neighbor algorithm is extremely simple. So simple, in fact, that you should be able to build it yourself from scratch using the Python you already know. Code a Nearest Neighbors algorithm that works for two dimensional data. You can use either arrays or dataframes to do this. Test it against the SKLearn package on the music dataset from above to ensure that it's correct. The goal here is to confirm your understanding of the model and continue to practice your Python skills. We're just expecting a brute force method here. After doing this, look up \"ball tree\" methods to see a more performant algorithm design.\n",
    "\n",
    "## Create Music Dataset\n",
    "There are 3 variables in this dataset. Duration, Loudness, and Jazz. Note that 1 in jazz column represents that the song is considered Jazz. O's are considered Rock."
   ]
  },
  {
   "cell_type": "code",
   "execution_count": 1,
   "metadata": {},
   "outputs": [],
   "source": [
    "import numpy as np\n",
    "import pandas as pd\n",
    "import matplotlib.pyplot as plt\n",
    "import seaborn as sns\n",
    "import scipy\n",
    "from sklearn.neighbors import KNeighborsClassifier\n",
    "\n",
    "%matplotlib inline"
   ]
  },
  {
   "cell_type": "code",
   "execution_count": 2,
   "metadata": {},
   "outputs": [
    {
     "data": {
      "image/png": "[encoded data removed]",
      "text/plain": [
       "<Figure size 720x360 with 1 Axes>"
      ]
     },
     "metadata": {
      "needs_background": "light"
     },
     "output_type": "display_data"
    }
   ],
   "source": [
    "music = pd.DataFrame()\n",
    "\n",
    "# Some data to play with.\n",
    "music['duration'] = [184, 134, 243, 186, 122, 197, 294, 382, 102, 264, \n",
    "                     205, 110, 307, 110, 397, 153, 190, 192, 210, 403,\n",
    "                     164, 198, 204, 253, 234, 190, 182, 401, 376, 102]\n",
    "music['loudness'] = [18, 34, 43, 36, 22, 9, 29, 22, 10, 24, \n",
    "                     20, 10, 17, 51, 7, 13, 19, 12, 21, 22,\n",
    "                     16, 18, 4, 23, 34, 19, 14, 11, 37, 42]\n",
    "\n",
    "# We know whether the songs in our training data are jazz or not.\n",
    "music['jazz'] = [ 1, 0, 0, 0, 1, 1, 0, 1, 1, 0,\n",
    "                  0, 1, 1, 0, 1, 1, 0, 1, 1, 1,\n",
    "                  1, 1, 1, 1, 0, 0, 1, 1, 0, 0]\n",
    "\n",
    "# Plot the data\n",
    "plt.figure(figsize=(10,5))\n",
    "sns.scatterplot(data=music, x='duration', y='loudness', hue='jazz')\n",
    "\n",
    "plt.title('Scatterplot of Duration vs Loudness')\n",
    "plt.xlabel('Duration')\n",
    "plt.ylabel('Loudness')\n",
    "plt.legend(['Jazz', 'Rock'])\n",
    "plt.show()"
   ]
  },
  {
   "cell_type": "markdown",
   "metadata": {},
   "source": [
    "## Define the Prediction Function\n",
    "The prediction function will take the differences of each column of the dataframe with the input values. The differences will be summed together and the absolute value will be calculated for each variable. The smallests variables are considered to the closest points to the new point. Based on the number of neighbors selected, the probability will be calculated for rock or jazz. The highest probability will be returned. "
   ]
  },
  {
   "cell_type": "code",
   "execution_count": 3,
   "metadata": {},
   "outputs": [],
   "source": [
    "# Create algorthym to predict music type based on \n",
    "# duration, loudness, and nearest variables\n",
    "def music_type(duration, loudness):\n",
    "    x = []\n",
    "    y = []\n",
    "    \n",
    "\n",
    "# Append the difference of each duration variable\n",
    "    for dur in music['duration']:\n",
    "        dur = duration - dur\n",
    "        x.append(dur)\n",
    "\n",
    "# Append the difference of each loudness variable\n",
    "    for loud in music['loudness']:\n",
    "        loud = loudness -loud\n",
    "        y.append(loud)\n",
    "\n",
    "# Append the absolute value sum of x and y lists\n",
    "    z = [x, y]\n",
    "    z = [sum(x) for x in zip(*z)]\n",
    "    z = [abs(x) for x in z]\n",
    "    \n",
    "# Sort the dataframe from smallest to largest\n",
    "    music['prediction'] = z\n",
    "    music.sort_values(by=['prediction'], inplace=True)\n",
    "    \n",
    "# Select the smallest n amounts\n",
    "    n_music = pd.DataFrame(music[:n])\n",
    "    \n",
    "# Calulate the probability of Jazz or Rock\n",
    "    jazz = 0\n",
    "    rock = 0\n",
    "    \n",
    "    for genre in n_music['jazz']:\n",
    "        if genre == 0:\n",
    "            rock += 1\n",
    "        else:\n",
    "            jazz += 1\n",
    "    \n",
    "    j_prob = jazz / n\n",
    "    r_prob = rock / n\n",
    "    \n",
    "# Return prediction\n",
    "    if j_prob > r_prob:\n",
    "        return print('Music Genre Predicted: Jazz\\n'+\n",
    "                    'Jazz Probability: {}\\n'.format(j_prob)+\n",
    "                    'Rock Probability: {}\\n'.format(r_prob))\n",
    "    else:\n",
    "        return print('Music Genre Predicted: Rock\\n'+\n",
    "                    'Jazz Probability: {}\\n'.format(j_prob)+\n",
    "                    'Rock Probability: {}\\n'.format(r_prob))"
   ]
  },
  {
   "cell_type": "markdown",
   "metadata": {},
   "source": [
    "## Function Results"
   ]
  },
  {
   "cell_type": "code",
   "execution_count": 10,
   "metadata": {},
   "outputs": [
    {
     "name": "stdout",
     "output_type": "stream",
     "text": [
      "Music Genre Predicted: Jazz\n",
      "Jazz Probability: 0.8\n",
      "Rock Probability: 0.2\n",
      "\n"
     ]
    }
   ],
   "source": [
    "# Input variables and run function\n",
    "duration = 160\n",
    "loudness = 45\n",
    "n = 5\n",
    "music_type(duration, loudness)"
   ]
  },
  {
   "cell_type": "markdown",
   "metadata": {},
   "source": [
    "## K Nearest Neighbors\n",
    "Now lets compare the function written above with the sklearn k nearest neighbors."
   ]
  },
  {
   "cell_type": "code",
   "execution_count": 11,
   "metadata": {},
   "outputs": [
    {
     "name": "stdout",
     "output_type": "stream",
     "text": [
      "[1]\n",
      "[[0.4 0.6]]\n"
     ]
    }
   ],
   "source": [
    "# input amount of neighbors in the KNN\n",
    "neighbors = KNeighborsClassifier(n_neighbors=n)\n",
    "\n",
    "# X is the variables in the model\n",
    "X = music[['duration', 'loudness']]\n",
    "\n",
    "# Y is the target variable\n",
    "Y = music['jazz']\n",
    "\n",
    "neighbors.fit(X,Y)\n",
    "\n",
    "## Predict music type\n",
    "print(neighbors.predict([[duration, loudness]]))\n",
    "print(neighbors.predict_proba([[duration, loudness]]))"
   ]
  },
  {
   "cell_type": "markdown",
   "metadata": {},
   "source": [
    "## Challenge Conclusions\n",
    "Overall, the function that was created to predict the genre type performed relatively well in comparison to the K Nearest Neighbors. Both models predicted the same genre for the selected inputs: Jazz. What was interesting was that the KNN probability of the song being jazz was .6, while in the function created it was .8. This difference could be what is defined as a neighbor in the created function. "
   ]
  }
 ],
 "metadata": {
  "kernelspec": {
   "display_name": "Python 3",
   "language": "python",
   "name": "python3"
  },
  "language_info": {
   "codemirror_mode": {
    "name": "ipython",
    "version": 3
   },
   "file_extension": ".py",
   "mimetype": "text/x-python",
   "name": "python",
   "nbconvert_exporter": "python",
   "pygments_lexer": "ipython3",
   "version": "3.7.3"
  }
 },
 "nbformat": 4,
 "nbformat_minor": 2
}
