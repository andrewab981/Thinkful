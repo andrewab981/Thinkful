{
 "cells": [
  {
   "cell_type": "markdown",
   "metadata": {},
   "source": [
    "# Probability Drills\n",
    "In these drills the probability is calulated for various scenarios. Bayes Rule was applied to several of the scenarios. "
   ]
  },
  {
   "cell_type": "markdown",
   "metadata": {},
   "source": [
    "1. Calculate probability of the results of flipping a coin four times. "
   ]
  },
  {
   "cell_type": "code",
   "execution_count": 1,
   "metadata": {},
   "outputs": [
    {
     "name": "stdout",
     "output_type": "stream",
     "text": [
      "0.0625\n"
     ]
    }
   ],
   "source": [
    "p = .5 * .5 * .5 *.5\n",
    "print(p)"
   ]
  },
  {
   "cell_type": "markdown",
   "metadata": {},
   "source": [
    "2. Probability of choosing a man from a group."
   ]
  },
  {
   "cell_type": "code",
   "execution_count": 2,
   "metadata": {},
   "outputs": [
    {
     "name": "stdout",
     "output_type": "stream",
     "text": [
      "0.5333333333333333\n"
     ]
    }
   ],
   "source": [
    "women = 24\n",
    "men = 21\n",
    "print(women/(men+women))"
   ]
  },
  {
   "cell_type": "markdown",
   "metadata": {},
   "source": [
    "3. Probability of traveling by plane and having a plane crash. "
   ]
  },
  {
   "cell_type": "code",
   "execution_count": 3,
   "metadata": {},
   "outputs": [
    {
     "name": "stdout",
     "output_type": "stream",
     "text": [
      "The probability that Bernice will be in a plane crash is 0.0005%.\n"
     ]
    }
   ],
   "source": [
    "travel_by_plane_chance = .1\n",
    "plane_crash_chance = .00005\n",
    "print(\"The probability that Bernice will be in a plane crash is {}%.\".format(travel_by_plane_chance * plane_crash_chance * 100))"
   ]
  },
  {
   "cell_type": "markdown",
   "metadata": {},
   "source": [
    "4. There is a 5% chance the users will be asked to take a survey. Part of the 15 minutes spent could be time spent taking the survey. The longer a user spends on the website the higher the chance that they will get a survey, which is unrepresentative of the population. "
   ]
  },
  {
   "cell_type": "markdown",
   "metadata": {},
   "source": [
    "## Drill Group 2\n",
    "Use Bayes rule to compute some conditional probabilities of positive results of Thripshaw's Disease"
   ]
  },
  {
   "cell_type": "code",
   "execution_count": 4,
   "metadata": {},
   "outputs": [],
   "source": [
    "positive_result = .98\n",
    "false_positive = .10\n",
    "population_affected = .005"
   ]
  },
  {
   "cell_type": "code",
   "execution_count": 5,
   "metadata": {},
   "outputs": [
    {
     "name": "stdout",
     "output_type": "stream",
     "text": [
      "0.1044\n",
      "0.98\n",
      "0.9\n",
      "0.09960000000000002\n"
     ]
    }
   ],
   "source": [
    "positive = (positive_result*population_affected)+(false_positive*(1-population_affected))\n",
    "print(positive)\n",
    "\n",
    "correctly_diagnose = positive_result\n",
    "print(correctly_diagnose)\n",
    "\n",
    "non_sufferer = 1 - false_positive\n",
    "print(non_sufferer)\n",
    "\n",
    "misclassify = 1 - (positive_result*population_affected + non_sufferer*(1-population_affected))\n",
    "print(misclassify)"
   ]
  },
  {
   "cell_type": "markdown",
   "metadata": {},
   "source": [
    "## Additional Bayes Rule Practice\n",
    "These are 5 scenarios that apply Bayes rule."
   ]
  },
  {
   "cell_type": "markdown",
   "metadata": {},
   "source": [
    "#### Aircraft Emergency Locator Transmitter\n",
    "Probability one manufacturer is selected, and the probability of the part from the manufacturer failing. "
   ]
  },
  {
   "cell_type": "code",
   "execution_count": 11,
   "metadata": {},
   "outputs": [
    {
     "name": "stdout",
     "output_type": "stream",
     "text": [
      "0.8\n",
      "0.372093023255814\n"
     ]
    }
   ],
   "source": [
    "alti = .8\n",
    "byrant = .15\n",
    "chartair = .5\n",
    "a_fail = .04\n",
    "b_fail = .06\n",
    "c_fail = .09\n",
    "\n",
    "print(alti)\n",
    "\n",
    "fail = (alti * a_fail) / ((alti * a_fail) + (byrant * b_fail) + (chartair * c_fail))\n",
    "print(fail)"
   ]
  },
  {
   "cell_type": "markdown",
   "metadata": {},
   "source": [
    "#### Ingrown Toenail\n",
    "Probability that your ingrown toenail is actually swine flu."
   ]
  },
  {
   "cell_type": "code",
   "execution_count": 16,
   "metadata": {},
   "outputs": [
    {
     "name": "stdout",
     "output_type": "stream",
     "text": [
      "0.00980392156862745\n",
      "0.33221476510067116\n"
     ]
    }
   ],
   "source": [
    "accuracy = .99\n",
    "false_positive = .01\n",
    "pop = 1 / 10000\n",
    "\n",
    "prob = (accuracy * pop) / ((accuracy * pop) + false_positive * (1-pop))\n",
    "print(prob)\n",
    "\n",
    "pop = 1 / 200\n",
    "prob = (accuracy * pop) / ((accuracy * pop) + false_positive * (1-pop))\n",
    "print(prob)\n"
   ]
  },
  {
   "cell_type": "markdown",
   "metadata": {},
   "source": [
    "#### Trip to Las Vegas\n",
    "Probability that you select the 20% win chance slot machine vs the 10% chance slot machine"
   ]
  },
  {
   "cell_type": "code",
   "execution_count": 22,
   "metadata": {},
   "outputs": [
    {
     "name": "stdout",
     "output_type": "stream",
     "text": [
      "0.5294117647058824\n",
      "0.3333333333333333\n",
      "0.47058823529411764\n",
      "0.6666666666666666\n"
     ]
    }
   ],
   "source": [
    "slot1 = .1\n",
    "slot2 = .2\n",
    "coin_toss = .5\n",
    "\n",
    "loss_chance = (1 - slot1) * coin_toss / ((1 - slot1) * coin_toss + (1 - slot2) * coin_toss)\n",
    "print(loss_chance)\n",
    "\n",
    "payout = slot1 * coin_toss / (coin_toss * slot1 + coin_toss * slot2)\n",
    "print(payout)\n",
    "\n",
    "\n",
    "loss_chance = (1 - slot2) * coin_toss / ((1 - slot1) * coin_toss + (1 - slot2) * coin_toss)\n",
    "print(loss_chance)\n",
    "payout = slot2 * coin_toss / (coin_toss * slot1 + coin_toss * slot2)\n",
    "print(payout)"
   ]
  },
  {
   "cell_type": "markdown",
   "metadata": {},
   "source": [
    "#### Genetic Defects\n",
    "Probability that someone has a genetic defect from testing. "
   ]
  },
  {
   "cell_type": "code",
   "execution_count": 23,
   "metadata": {},
   "outputs": [
    {
     "name": "stdout",
     "output_type": "stream",
     "text": [
      "0.0865051903114187\n"
     ]
    }
   ],
   "source": [
    "defect = .01\n",
    "true_positive = .9\n",
    "false_positive = .096\n",
    "\n",
    "genetic_defect = (defect * true_positive) / (defect * true_positive + false_positive * (1 - defect))\n",
    "print(genetic_defect)"
   ]
  },
  {
   "cell_type": "markdown",
   "metadata": {},
   "source": [
    "#### Test for Cancer\n",
    "Probability that a woman has cancer from a positive mammogram result. "
   ]
  },
  {
   "cell_type": "code",
   "execution_count": 24,
   "metadata": {},
   "outputs": [
    {
     "name": "stdout",
     "output_type": "stream",
     "text": [
      "0.10204081632653063\n"
     ]
    }
   ],
   "source": [
    "breast_cancer_pop = .01\n",
    "test_positive = .9\n",
    "false_positive = .08\n",
    "\n",
    "breast_cancer_chance = (breast_cancer_pop * test_positive) / (breast_cancer_pop * test_positive + false_positive * (1 - breast_cancer_pop))\n",
    "print(breast_cancer_chance)"
   ]
  },
  {
   "cell_type": "code",
   "execution_count": null,
   "metadata": {},
   "outputs": [],
   "source": []
  }
 ],
 "metadata": {
  "kernelspec": {
   "display_name": "Python 3",
   "language": "python",
   "name": "python3"
  },
  "language_info": {
   "codemirror_mode": {
    "name": "ipython",
    "version": 3
   },
   "file_extension": ".py",
   "mimetype": "text/x-python",
   "name": "python",
   "nbconvert_exporter": "python",
   "pygments_lexer": "ipython3",
   "version": "3.7.3"
  }
 },
 "nbformat": 4,
 "nbformat_minor": 2
}
