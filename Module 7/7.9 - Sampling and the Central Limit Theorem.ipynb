{
 "cells": [
  {
   "cell_type": "markdown",
   "metadata": {},
   "source": [
    "# Sampling and Central Limit Theorem\n",
    "In this assignment 2 random populations will be generated. The mean and standard deviations of both populations will compared as changes are applied to the populations."
   ]
  },
  {
   "cell_type": "code",
   "execution_count": 1,
   "metadata": {},
   "outputs": [],
   "source": [
    "import numpy as np\n",
    "import pandas as pd\n",
    "import matplotlib.pyplot as plt\n",
    "import scipy\n",
    "%matplotlib inline"
   ]
  },
  {
   "cell_type": "code",
   "execution_count": 8,
   "metadata": {
    "scrolled": false
   },
   "outputs": [
    {
     "data": {
      "image/png": "[encoded data removed]",
      "text/plain": [
       "<Figure size 432x288 with 1 Axes>"
      ]
     },
     "metadata": {
      "needs_background": "light"
     },
     "output_type": "display_data"
    },
    {
     "name": "stdout",
     "output_type": "stream",
     "text": [
      "The population 1 mean is 1.9953.\n",
      "The population 2 mean is 4.9854.\n",
      "The population 1 standard deviation is 1.2609036085284235.\n",
      "The population 2 standard deviation is 1.5673502607904848.\n"
     ]
    }
   ],
   "source": [
    "pop1 = np.random.binomial(10, .2, 10000)\n",
    "pop2 = np.random.binomial(10, .5, 10000)\n",
    "\n",
    "plt.hist(pop1, alpha = .5, label = 'Population 1')\n",
    "plt.hist(pop2, alpha =.5, label = 'Population 2')\n",
    "plt.legend(loc = \"upper right\")\n",
    "\n",
    "plt.show()\n",
    "\n",
    "print(\"The population 1 mean is {}.\".format(pop1.mean()))\n",
    "print(\"The population 2 mean is {}.\".format(pop2.mean()))\n",
    "print(\"The population 1 standard deviation is {}.\".format(pop1.std()))\n",
    "print(\"The population 2 standard deviation is {}.\".format(pop2.std()))"
   ]
  },
  {
   "cell_type": "markdown",
   "metadata": {},
   "source": [
    "**The fist sample will have a sample size of 100. See the results below as compared to the population.** "
   ]
  },
  {
   "cell_type": "code",
   "execution_count": 9,
   "metadata": {},
   "outputs": [
    {
     "data": {
      "image/png": "[encoded data removed]",
      "text/plain": [
       "<Figure size 432x288 with 1 Axes>"
      ]
     },
     "metadata": {
      "needs_background": "light"
     },
     "output_type": "display_data"
    },
    {
     "name": "stdout",
     "output_type": "stream",
     "text": [
      "The sample 1 mean is 2.01.\n",
      "The sample 2 mean is 5.09.\n",
      "The sample 1 standard deviation is 1.3076314465475356.\n",
      "The sample 2 standard deviation is 1.4077997016621364.\n"
     ]
    }
   ],
   "source": [
    "size = 100\n",
    "\n",
    "sample1 = np.random.choice(pop1, 100, replace = True)\n",
    "sample2 = np.random.choice(pop2, 100, replace = True)\n",
    "\n",
    "plt.hist(sample1, alpha = .5, label = 'Sample 1')\n",
    "plt.hist(sample2, alpha =.5, label = 'Sample 2')\n",
    "plt.legend(loc = \"upper right\")\n",
    "\n",
    "plt.show()\n",
    "\n",
    "print(\"The sample 1 mean is {}.\".format(sample1.mean()))\n",
    "print(\"The sample 2 mean is {}.\".format(sample2.mean()))\n",
    "print(\"The sample 1 standard deviation is {}.\".format(sample1.std()))\n",
    "print(\"The sample 2 standard deviation is {}.\".format(sample2.std()))"
   ]
  },
  {
   "cell_type": "markdown",
   "metadata": {},
   "source": [
    "#### Sample Size Changes\n",
    "The next set of samples will change the sample size from 100 to 1000 and then 20. I expect that mean and standard deviaiton of the 1000 samples will be closer to the population than 100 samples. In contrast, I expect that the mean and standard deviation of the 20 samples will further away to the population than 100 samples."
   ]
  },
  {
   "cell_type": "code",
   "execution_count": 10,
   "metadata": {},
   "outputs": [
    {
     "data": {
      "image/png": "[encoded data removed]",
      "text/plain": [
       "<Figure size 432x288 with 1 Axes>"
      ]
     },
     "metadata": {
      "needs_background": "light"
     },
     "output_type": "display_data"
    },
    {
     "name": "stdout",
     "output_type": "stream",
     "text": [
      "The sample 1 mean is 2.065.\n",
      "The sample 2 mean is 4.957.\n",
      "The sample 1 standard deviation is 1.2412795817220228.\n",
      "The sample 2 standard deviation is 1.5821349499963648.\n"
     ]
    }
   ],
   "source": [
    "size = 1000\n",
    "\n",
    "sample1 = np.random.choice(pop1, size, replace = True)\n",
    "sample2 = np.random.choice(pop2, size, replace = True)\n",
    "\n",
    "plt.hist(sample1, alpha = .5, label = 'Sample 1')\n",
    "plt.hist(sample2, alpha =.5, label = 'Sample 2')\n",
    "plt.legend(loc = \"upper right\")\n",
    "\n",
    "plt.show()\n",
    "\n",
    "print(\"The sample 1 mean is {}.\".format(sample1.mean()))\n",
    "print(\"The sample 2 mean is {}.\".format(sample2.mean()))\n",
    "print(\"The sample 1 standard deviation is {}.\".format(sample1.std()))\n",
    "print(\"The sample 2 standard deviation is {}.\".format(sample2.std()))"
   ]
  },
  {
   "cell_type": "markdown",
   "metadata": {},
   "source": [
    "**Based on the observations above a higher sample size leads to lower variability from the populaiton.**"
   ]
  },
  {
   "cell_type": "code",
   "execution_count": 11,
   "metadata": {},
   "outputs": [
    {
     "data": {
      "image/png": "[encoded data removed]",
      "text/plain": [
       "<Figure size 432x288 with 1 Axes>"
      ]
     },
     "metadata": {
      "needs_background": "light"
     },
     "output_type": "display_data"
    },
    {
     "name": "stdout",
     "output_type": "stream",
     "text": [
      "The sample 1 mean is 1.85.\n",
      "The sample 2 mean is 5.05.\n",
      "The sample 1 standard deviation is 1.107925990308017.\n",
      "The sample 2 standard deviation is 1.499166435056495.\n"
     ]
    }
   ],
   "source": [
    "size = 20\n",
    "\n",
    "sample1 = np.random.choice(pop1, size, replace = True)\n",
    "sample2 = np.random.choice(pop2, size, replace = True)\n",
    "\n",
    "plt.hist(sample1, alpha = .5, label = 'Sample 1')\n",
    "plt.hist(sample2, alpha =.5, label = 'Sample 2')\n",
    "plt.legend(loc = \"upper right\")\n",
    "\n",
    "plt.show()\n",
    "\n",
    "print(\"The sample 1 mean is {}.\".format(sample1.mean()))\n",
    "print(\"The sample 2 mean is {}.\".format(sample2.mean()))\n",
    "print(\"The sample 1 standard deviation is {}.\".format(sample1.std()))\n",
    "print(\"The sample 2 standard deviation is {}.\".format(sample2.std()))"
   ]
  },
  {
   "cell_type": "markdown",
   "metadata": {},
   "source": [
    "**Based on the observations above a lower sample size leads to higher variability from the populaiton.** "
   ]
  },
  {
   "cell_type": "markdown",
   "metadata": {},
   "source": [
    "#### Changes in Probability\n",
    "The probability value for population 1 will be increased from .2 to .3. The t-statistic and p-value will be computed. Then the probability value will be increased from .3 to .4. The t-statistic and p-value will be computed and the results will be compared with the .3 p- value. "
   ]
  },
  {
   "cell_type": "code",
   "execution_count": 13,
   "metadata": {},
   "outputs": [
    {
     "name": "stdout",
     "output_type": "stream",
     "text": [
      "Ttest_indResult(statistic=8.95763056935001, pvalue=2.5119222022346234e-16)\n"
     ]
    }
   ],
   "source": [
    "pop1 = np.random.binomial(10, .3, 10000)\n",
    "\n",
    "size = 100\n",
    "sample1 = np.random.choice(pop1, size, replace = True)\n",
    "sample2 = np.random.choice(pop2, size, replace = True)\n",
    "\n",
    "from scipy.stats import ttest_ind\n",
    "print(ttest_ind(sample2, sample1, equal_var = False))"
   ]
  },
  {
   "cell_type": "code",
   "execution_count": 17,
   "metadata": {},
   "outputs": [
    {
     "name": "stdout",
     "output_type": "stream",
     "text": [
      "Ttest_indResult(statistic=4.866510636053799, pvalue=2.3491422964860637e-06)\n"
     ]
    }
   ],
   "source": [
    "pop1 = np.random.binomial(10, .4, 10000)\n",
    "\n",
    "sample1 = np.random.choice(pop1, size, replace = True)\n",
    "sample2 = np.random.choice(pop2, size, replace = True)\n",
    "\n",
    "from scipy.stats import ttest_ind\n",
    "print(ttest_ind(sample2, sample1, equal_var = False))"
   ]
  },
  {
   "cell_type": "markdown",
   "metadata": {},
   "source": [
    "**The t-statistics decreased as the p-value of both populations became closer. Like-wise the p-value also decreased indicating that the results are less likely due to chance.**"
   ]
  },
  {
   "cell_type": "markdown",
   "metadata": {},
   "source": [
    "#### Changing Population Distribution from Binomial\n",
    "The mean values will still accurately represent the population values as long as the there is a large enough sample. The distribution type would have no affect. "
   ]
  }
 ],
 "metadata": {
  "kernelspec": {
   "display_name": "Python 3",
   "language": "python",
   "name": "python3"
  },
  "language_info": {
   "codemirror_mode": {
    "name": "ipython",
    "version": 3
   },
   "file_extension": ".py",
   "mimetype": "text/x-python",
   "name": "python",
   "nbconvert_exporter": "python",
   "pygments_lexer": "ipython3",
   "version": "3.7.3"
  }
 },
 "nbformat": 4,
 "nbformat_minor": 2
}
