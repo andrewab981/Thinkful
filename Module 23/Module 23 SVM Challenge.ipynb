{
 "cells": [
  {
   "cell_type": "markdown",
   "metadata": {},
   "source": [
    "# Challenge\n",
    "\n",
    "## Assignment\n",
    "Transform this regression problem into a binary classifier and clean up the feature set. You can choose whether or not to include nutritional information, but try to cut your feature set down to the 30 most valuable features.\n",
    "\n",
    "When you've finished that, also take a moment to think about bias. Is there anything in this dataset that makes you think it could be biased, perhaps extremely so?\n",
    "\n",
    "There is. Several things in fact, but most glaringly is that we don't actually have a random sample. It could be, and probably is, that the people more likely to choose some kinds of recipes are more likely to give high reviews.\n",
    "\n",
    "After all, people who eat chocolate _might_ just be happier people.\n",
    "\n",
    "## Import the Data\n",
    "The data is over 20k recipes from epicurious.com. It consists of the title of each recipe, the rating, calories, nutritional values, and ingredients for each of the recipes. This data will be imported and explored below:"
   ]
  },
  {
   "cell_type": "code",
   "execution_count": 1,
   "metadata": {},
   "outputs": [],
   "source": [
    "import numpy as np\n",
    "import pandas as pd\n",
    "import scipy\n",
    "import matplotlib.pyplot as plt\n",
    "import seaborn as sns\n",
    "import warnings\n",
    "\n",
    "warnings.filterwarnings('ignore')\n",
    "%matplotlib inline"
   ]
  },
  {
   "cell_type": "code",
   "execution_count": 2,
   "metadata": {},
   "outputs": [
    {
     "data": {
      "text/html": [
       "<div>\n",
       "<style scoped>\n",
       "    .dataframe tbody tr th:only-of-type {\n",
       "        vertical-align: middle;\n",
       "    }\n",
       "\n",
       "    .dataframe tbody tr th {\n",
       "        vertical-align: top;\n",
       "    }\n",
       "\n",
       "    .dataframe thead th {\n",
       "        text-align: right;\n",
       "    }\n",
       "</style>\n",
       "<table border=\"1\" class=\"dataframe\">\n",
       "  <thead>\n",
       "    <tr style=\"text-align: right;\">\n",
       "      <th></th>\n",
       "      <th>title</th>\n",
       "      <th>rating</th>\n",
       "      <th>calories</th>\n",
       "      <th>protein</th>\n",
       "      <th>fat</th>\n",
       "      <th>sodium</th>\n",
       "      <th>#cakeweek</th>\n",
       "      <th>#wasteless</th>\n",
       "      <th>22-minute meals</th>\n",
       "      <th>3-ingredient recipes</th>\n",
       "      <th>...</th>\n",
       "      <th>yellow squash</th>\n",
       "      <th>yogurt</th>\n",
       "      <th>yonkers</th>\n",
       "      <th>yuca</th>\n",
       "      <th>zucchini</th>\n",
       "      <th>cookbooks</th>\n",
       "      <th>leftovers</th>\n",
       "      <th>snack</th>\n",
       "      <th>snack week</th>\n",
       "      <th>turkey</th>\n",
       "    </tr>\n",
       "  </thead>\n",
       "  <tbody>\n",
       "    <tr>\n",
       "      <th>0</th>\n",
       "      <td>Lentil, Apple, and Turkey Wrap</td>\n",
       "      <td>2.500</td>\n",
       "      <td>426.0</td>\n",
       "      <td>30.0</td>\n",
       "      <td>7.0</td>\n",
       "      <td>559.0</td>\n",
       "      <td>0.0</td>\n",
       "      <td>0.0</td>\n",
       "      <td>0.0</td>\n",
       "      <td>0.0</td>\n",
       "      <td>...</td>\n",
       "      <td>0.0</td>\n",
       "      <td>0.0</td>\n",
       "      <td>0.0</td>\n",
       "      <td>0.0</td>\n",
       "      <td>0.0</td>\n",
       "      <td>0.0</td>\n",
       "      <td>0.0</td>\n",
       "      <td>0.0</td>\n",
       "      <td>0.0</td>\n",
       "      <td>1.0</td>\n",
       "    </tr>\n",
       "    <tr>\n",
       "      <th>1</th>\n",
       "      <td>Boudin Blanc Terrine with Red Onion Confit</td>\n",
       "      <td>4.375</td>\n",
       "      <td>403.0</td>\n",
       "      <td>18.0</td>\n",
       "      <td>23.0</td>\n",
       "      <td>1439.0</td>\n",
       "      <td>0.0</td>\n",
       "      <td>0.0</td>\n",
       "      <td>0.0</td>\n",
       "      <td>0.0</td>\n",
       "      <td>...</td>\n",
       "      <td>0.0</td>\n",
       "      <td>0.0</td>\n",
       "      <td>0.0</td>\n",
       "      <td>0.0</td>\n",
       "      <td>0.0</td>\n",
       "      <td>0.0</td>\n",
       "      <td>0.0</td>\n",
       "      <td>0.0</td>\n",
       "      <td>0.0</td>\n",
       "      <td>0.0</td>\n",
       "    </tr>\n",
       "    <tr>\n",
       "      <th>2</th>\n",
       "      <td>Potato and Fennel Soup Hodge</td>\n",
       "      <td>3.750</td>\n",
       "      <td>165.0</td>\n",
       "      <td>6.0</td>\n",
       "      <td>7.0</td>\n",
       "      <td>165.0</td>\n",
       "      <td>0.0</td>\n",
       "      <td>0.0</td>\n",
       "      <td>0.0</td>\n",
       "      <td>0.0</td>\n",
       "      <td>...</td>\n",
       "      <td>0.0</td>\n",
       "      <td>0.0</td>\n",
       "      <td>0.0</td>\n",
       "      <td>0.0</td>\n",
       "      <td>0.0</td>\n",
       "      <td>0.0</td>\n",
       "      <td>0.0</td>\n",
       "      <td>0.0</td>\n",
       "      <td>0.0</td>\n",
       "      <td>0.0</td>\n",
       "    </tr>\n",
       "    <tr>\n",
       "      <th>3</th>\n",
       "      <td>Mahi-Mahi in Tomato Olive Sauce</td>\n",
       "      <td>5.000</td>\n",
       "      <td>NaN</td>\n",
       "      <td>NaN</td>\n",
       "      <td>NaN</td>\n",
       "      <td>NaN</td>\n",
       "      <td>0.0</td>\n",
       "      <td>0.0</td>\n",
       "      <td>0.0</td>\n",
       "      <td>0.0</td>\n",
       "      <td>...</td>\n",
       "      <td>0.0</td>\n",
       "      <td>0.0</td>\n",
       "      <td>0.0</td>\n",
       "      <td>0.0</td>\n",
       "      <td>0.0</td>\n",
       "      <td>0.0</td>\n",
       "      <td>0.0</td>\n",
       "      <td>0.0</td>\n",
       "      <td>0.0</td>\n",
       "      <td>0.0</td>\n",
       "    </tr>\n",
       "    <tr>\n",
       "      <th>4</th>\n",
       "      <td>Spinach Noodle Casserole</td>\n",
       "      <td>3.125</td>\n",
       "      <td>547.0</td>\n",
       "      <td>20.0</td>\n",
       "      <td>32.0</td>\n",
       "      <td>452.0</td>\n",
       "      <td>0.0</td>\n",
       "      <td>0.0</td>\n",
       "      <td>0.0</td>\n",
       "      <td>0.0</td>\n",
       "      <td>...</td>\n",
       "      <td>0.0</td>\n",
       "      <td>0.0</td>\n",
       "      <td>0.0</td>\n",
       "      <td>0.0</td>\n",
       "      <td>0.0</td>\n",
       "      <td>0.0</td>\n",
       "      <td>0.0</td>\n",
       "      <td>0.0</td>\n",
       "      <td>0.0</td>\n",
       "      <td>0.0</td>\n",
       "    </tr>\n",
       "  </tbody>\n",
       "</table>\n",
       "<p>5 rows × 680 columns</p>\n",
       "</div>"
      ],
      "text/plain": [
       "                                         title  rating  calories  protein  \\\n",
       "0              Lentil, Apple, and Turkey Wrap    2.500     426.0     30.0   \n",
       "1  Boudin Blanc Terrine with Red Onion Confit    4.375     403.0     18.0   \n",
       "2                Potato and Fennel Soup Hodge    3.750     165.0      6.0   \n",
       "3             Mahi-Mahi in Tomato Olive Sauce    5.000       NaN      NaN   \n",
       "4                    Spinach Noodle Casserole    3.125     547.0     20.0   \n",
       "\n",
       "    fat  sodium  #cakeweek  #wasteless  22-minute meals  3-ingredient recipes  \\\n",
       "0   7.0   559.0        0.0         0.0              0.0                   0.0   \n",
       "1  23.0  1439.0        0.0         0.0              0.0                   0.0   \n",
       "2   7.0   165.0        0.0         0.0              0.0                   0.0   \n",
       "3   NaN     NaN        0.0         0.0              0.0                   0.0   \n",
       "4  32.0   452.0        0.0         0.0              0.0                   0.0   \n",
       "\n",
       "   ...  yellow squash  yogurt  yonkers  yuca  zucchini  cookbooks  leftovers  \\\n",
       "0  ...            0.0     0.0      0.0   0.0       0.0        0.0        0.0   \n",
       "1  ...            0.0     0.0      0.0   0.0       0.0        0.0        0.0   \n",
       "2  ...            0.0     0.0      0.0   0.0       0.0        0.0        0.0   \n",
       "3  ...            0.0     0.0      0.0   0.0       0.0        0.0        0.0   \n",
       "4  ...            0.0     0.0      0.0   0.0       0.0        0.0        0.0   \n",
       "\n",
       "   snack  snack week  turkey  \n",
       "0    0.0         0.0     1.0  \n",
       "1    0.0         0.0     0.0  \n",
       "2    0.0         0.0     0.0  \n",
       "3    0.0         0.0     0.0  \n",
       "4    0.0         0.0     0.0  \n",
       "\n",
       "[5 rows x 680 columns]"
      ]
     },
     "execution_count": 2,
     "metadata": {},
     "output_type": "execute_result"
    }
   ],
   "source": [
    "# Import the data and print the first 5 rows\n",
    "df = pd.read_csv('https://tf-assets-prod.s3.amazonaws.com/tf-curric/data-science/epi_r.csv')\n",
    "df.head()"
   ]
  },
  {
   "cell_type": "code",
   "execution_count": 3,
   "metadata": {},
   "outputs": [
    {
     "name": "stdout",
     "output_type": "stream",
     "text": [
      "<class 'pandas.core.frame.DataFrame'>\n",
      "RangeIndex: 20052 entries, 0 to 20051\n",
      "Columns: 680 entries, title to turkey\n",
      "dtypes: float64(679), object(1)\n",
      "memory usage: 104.0+ MB\n"
     ]
    }
   ],
   "source": [
    "df.info()"
   ]
  },
  {
   "cell_type": "markdown",
   "metadata": {},
   "source": [
    "## Removing NaN Values\n",
    "4000 values are missing in each of the nutritional values. These values will be interpolated based on the values in the row. "
   ]
  },
  {
   "cell_type": "code",
   "execution_count": 4,
   "metadata": {},
   "outputs": [
    {
     "data": {
      "text/plain": [
       "fat         4183\n",
       "protein     4162\n",
       "sodium      4119\n",
       "calories    4117\n",
       "title          0\n",
       "dtype: int64"
      ]
     },
     "execution_count": 4,
     "metadata": {},
     "output_type": "execute_result"
    }
   ],
   "source": [
    "# Count of missing values\n",
    "df.isna().sum().nlargest()"
   ]
  },
  {
   "cell_type": "code",
   "execution_count": 5,
   "metadata": {},
   "outputs": [],
   "source": [
    "# Fill missing values based on row values\n",
    "df = df.interpolate(axis=0)"
   ]
  },
  {
   "cell_type": "markdown",
   "metadata": {},
   "source": [
    "## Data Exploration\n",
    "The main question in mind when looking at this data set is, how does one predict the rating of a recipe? The names of all the columns are printed below to explore all the different variables with that question in mind. Looking at the list below, it looks like there are several categories in the data:\n",
    "    1. Nutritional Values\n",
    "    2. Type of receipe\n",
    "    3. Event\n",
    "    4. Location\n",
    "    5. Ingredients"
   ]
  },
  {
   "cell_type": "markdown",
   "metadata": {},
   "source": [
    "### Rating Exploration\n",
    "The distribution plot below identified several key problems. First, there are a lot of receipes with a rating score of zero, which indicates there is no reviews for 1800 receipes. The mean of the data is skewed because of this. The mean of the data is 3.71, while the 25% quartile is 3.75. Second, this distribution shows that there is a clear bias in the reviewers to give higher reviews."
   ]
  },
  {
   "cell_type": "code",
   "execution_count": 6,
   "metadata": {
    "scrolled": true
   },
   "outputs": [
    {
     "data": {
      "image/png": "[encoded data removed]",
      "text/plain": [
       "<Figure size 432x288 with 1 Axes>"
      ]
     },
     "metadata": {
      "needs_background": "light"
     },
     "output_type": "display_data"
    }
   ],
   "source": [
    "# Plot a violinplot of the ratings\n",
    "sns.distplot(df['rating'], bins=20)\n",
    "plt.xlabel('Rating')\n",
    "plt.title('Distribution Plot of Ratings')\n",
    "plt.show()"
   ]
  },
  {
   "cell_type": "code",
   "execution_count": 7,
   "metadata": {},
   "outputs": [
    {
     "data": {
      "text/plain": [
       "count    20052.000000\n",
       "mean         3.714467\n",
       "std          1.340829\n",
       "min          0.000000\n",
       "25%          3.750000\n",
       "50%          4.375000\n",
       "75%          4.375000\n",
       "max          5.000000\n",
       "Name: rating, dtype: float64"
      ]
     },
     "execution_count": 7,
     "metadata": {},
     "output_type": "execute_result"
    }
   ],
   "source": [
    "# Statistics of the ratings\n",
    "df['rating'].describe()"
   ]
  },
  {
   "cell_type": "markdown",
   "metadata": {},
   "source": [
    "#### Zero Rated Receipes\n",
    "Roughly 10% of the data has no rating. Furthermore, the target variable needs to be converted to a integer to be fitted to the SVC model. "
   ]
  },
  {
   "cell_type": "code",
   "execution_count": 8,
   "metadata": {},
   "outputs": [
    {
     "data": {
      "text/plain": [
       "0.000    1836\n",
       "1.250     164\n",
       "1.875     124\n",
       "2.500     532\n",
       "3.125    1489\n",
       "3.750    5169\n",
       "4.375    8019\n",
       "5.000    2719\n",
       "Name: rating, dtype: int64"
      ]
     },
     "execution_count": 8,
     "metadata": {},
     "output_type": "execute_result"
    }
   ],
   "source": [
    "# Print list of the counts per review\n",
    "df['rating'].value_counts().sort_index()"
   ]
  },
  {
   "cell_type": "code",
   "execution_count": 9,
   "metadata": {
    "scrolled": true
   },
   "outputs": [
    {
     "data": {
      "text/plain": [
       "0     1836\n",
       "1      164\n",
       "2      656\n",
       "3     1489\n",
       "4    13188\n",
       "5     2719\n",
       "Name: rating, dtype: int64"
      ]
     },
     "execution_count": 9,
     "metadata": {},
     "output_type": "execute_result"
    }
   ],
   "source": [
    "# round the ratings and convert to integer\n",
    "df['rating'] = round(df['rating']).astype('int')\n",
    "df['rating'].value_counts().sort_index()"
   ]
  },
  {
   "cell_type": "markdown",
   "metadata": {},
   "source": [
    "## SVM Classifer Model 1\n",
    "Model 1 performed horribly with only a cross validation score of .65. Additionally, the model was had a large number of false positives in relation to review 4. "
   ]
  },
  {
   "cell_type": "code",
   "execution_count": 10,
   "metadata": {},
   "outputs": [
    {
     "data": {
      "text/plain": [
       "array([0.65981308, 0.66074766, 0.65887122, 0.66011849, 0.6619894 ])"
      ]
     },
     "execution_count": 10,
     "metadata": {},
     "output_type": "execute_result"
    }
   ],
   "source": [
    "from sklearn.svm import SVC\n",
    "from sklearn.model_selection import train_test_split\n",
    "\n",
    "svc = SVC()\n",
    "# X is the features\n",
    "X = df.drop(['title', 'rating'], axis=1)\n",
    "\n",
    "# Y is the target variable\n",
    "Y = df['rating']\n",
    "\n",
    "# Split the data between test and train sets\n",
    "x_train, x_test, y_train, y_test = train_test_split(X, Y,\n",
    "        test_size=.2, random_state=1)\n",
    "\n",
    "# Fit the training data to the model\n",
    "svc.fit(x_train, y_train)\n",
    "\n",
    "# Cross validation with 5 folds\n",
    "from sklearn.model_selection import cross_val_score\n",
    "cross_val_score(svc, x_train, y_train, cv=5)"
   ]
  },
  {
   "cell_type": "code",
   "execution_count": 11,
   "metadata": {},
   "outputs": [
    {
     "data": {
      "image/png": "[encoded data removed]",
      "text/plain": [
       "<Figure size 720x360 with 2 Axes>"
      ]
     },
     "metadata": {
      "needs_background": "light"
     },
     "output_type": "display_data"
    },
    {
     "name": "stdout",
     "output_type": "stream",
     "text": [
      "Accuracy Score: 0.7078112337136089\n"
     ]
    }
   ],
   "source": [
    "from sklearn.metrics import confusion_matrix\n",
    "from sklearn.metrics import accuracy_score\n",
    "\n",
    "# Predict the review classification based on the training data\n",
    "y_pred = svc.predict(x_train)\n",
    "\n",
    "# create heatmap of confusion matrix\n",
    "plt.figure(figsize=(10,5))\n",
    "sns.heatmap(confusion_matrix(y_train, y_pred), annot=True, fmt='g')\n",
    "\n",
    "plt.ylabel('True Label')\n",
    "plt.xlabel('Predicted Label')\n",
    "plt.title('Confusion Matrix')\n",
    "\n",
    "plt.show()\n",
    "\n",
    "# Print Accuracy Score\n",
    "print('Accuracy Score: {}'.format(accuracy_score(y_train, y_pred)))"
   ]
  },
  {
   "cell_type": "markdown",
   "metadata": {},
   "source": [
    "## Improving the Model\n",
    "There are several key areas that the model can be improved upon. First, There are a lot of features, over 600, these will be reduced by either PCA or by selecting the best 30 features. This will greatly reduce the noise of the data as well as the run time of the model. Both of these models will be compared for accuracy. The next issue is the data of the target variable, 'Y'. The model is biased by the majority outcome which is a rating of 4, as seen in the confusion matrix above. The majority of the errors were in relation to false positives in rating 4. The population will be adjusted so that there will be an equal sample within all populations. The goal of this is to increase the minority outcomes in order to boost the overall accuracy of the model. "
   ]
  },
  {
   "cell_type": "code",
   "execution_count": 12,
   "metadata": {},
   "outputs": [],
   "source": [
    "# Assign correlation of 'rating' to variable\n",
    "df_corr = df.corr()\n",
    "ser = df_corr['rating'].sort_values()"
   ]
  },
  {
   "cell_type": "code",
   "execution_count": 13,
   "metadata": {},
   "outputs": [
    {
     "data": {
      "text/plain": [
       "drink            -0.235009\n",
       "alcoholic        -0.218739\n",
       "house & garden   -0.215084\n",
       "gin              -0.189201\n",
       "spirit           -0.143103\n",
       "Name: rating, dtype: float64"
      ]
     },
     "execution_count": 13,
     "metadata": {},
     "output_type": "execute_result"
    }
   ],
   "source": [
    "# Remove correlation of rating with itself\n",
    "# Print results\n",
    "ser = ser[:-1]\n",
    "ser.head()"
   ]
  },
  {
   "cell_type": "code",
   "execution_count": 14,
   "metadata": {},
   "outputs": [
    {
     "data": {
      "text/html": [
       "<div>\n",
       "<style scoped>\n",
       "    .dataframe tbody tr th:only-of-type {\n",
       "        vertical-align: middle;\n",
       "    }\n",
       "\n",
       "    .dataframe tbody tr th {\n",
       "        vertical-align: top;\n",
       "    }\n",
       "\n",
       "    .dataframe thead th {\n",
       "        text-align: right;\n",
       "    }\n",
       "</style>\n",
       "<table border=\"1\" class=\"dataframe\">\n",
       "  <thead>\n",
       "    <tr style=\"text-align: right;\">\n",
       "      <th></th>\n",
       "      <th>index</th>\n",
       "      <th>rating</th>\n",
       "    </tr>\n",
       "  </thead>\n",
       "  <tbody>\n",
       "    <tr>\n",
       "      <th>0</th>\n",
       "      <td>bon appétit</td>\n",
       "      <td>0.117422</td>\n",
       "    </tr>\n",
       "    <tr>\n",
       "      <th>1</th>\n",
       "      <td>peanut free</td>\n",
       "      <td>0.090484</td>\n",
       "    </tr>\n",
       "    <tr>\n",
       "      <th>2</th>\n",
       "      <td>soy free</td>\n",
       "      <td>0.087096</td>\n",
       "    </tr>\n",
       "    <tr>\n",
       "      <th>3</th>\n",
       "      <td>tree nut free</td>\n",
       "      <td>0.078344</td>\n",
       "    </tr>\n",
       "    <tr>\n",
       "      <th>4</th>\n",
       "      <td>bake</td>\n",
       "      <td>0.070381</td>\n",
       "    </tr>\n",
       "  </tbody>\n",
       "</table>\n",
       "</div>"
      ],
      "text/plain": [
       "           index    rating\n",
       "0    bon appétit  0.117422\n",
       "1    peanut free  0.090484\n",
       "2       soy free  0.087096\n",
       "3  tree nut free  0.078344\n",
       "4           bake  0.070381"
      ]
     },
     "execution_count": 14,
     "metadata": {},
     "output_type": "execute_result"
    }
   ],
   "source": [
    "# Create a dataframe of top 30 highest correlated variables\n",
    "large = ser.nlargest(15)\n",
    "small = ser.nsmallest(15)\n",
    "\n",
    "variables_list = pd.concat([large,small], axis=0).reset_index()\n",
    "variables_list.head()"
   ]
  },
  {
   "cell_type": "code",
   "execution_count": 15,
   "metadata": {},
   "outputs": [],
   "source": [
    "# Create variable of the variables from the list\n",
    "variables = variables_list['index']"
   ]
  },
  {
   "cell_type": "markdown",
   "metadata": {},
   "source": [
    "## Model 2: Top 30 Features\n",
    "There was no difference in the top 30 feaatures model from the original model. The cross validation score was slightly higher at .67, but it still suffers from false positives. The test data will not be modeled due to these poor results."
   ]
  },
  {
   "cell_type": "code",
   "execution_count": 16,
   "metadata": {},
   "outputs": [
    {
     "data": {
      "text/plain": [
       "array([0.66697819, 0.66978193, 0.67196757, 0.66074213, 0.66697848])"
      ]
     },
     "execution_count": 16,
     "metadata": {},
     "output_type": "execute_result"
    }
   ],
   "source": [
    "svc = SVC()\n",
    "# X is the features\n",
    "X = df[variables]\n",
    "\n",
    "# Y is the target variable\n",
    "Y = df['rating']\n",
    "\n",
    "# Split the data between test and train sets\n",
    "x_train, x_test, y_train, y_test = train_test_split(X, Y,\n",
    "        test_size=.2, random_state=1)\n",
    "\n",
    "# Fit training data\n",
    "svc.fit(x_train, y_train)\n",
    "\n",
    "# Cross validation with 5 folds\n",
    "cross_val_score(svc, x_train, y_train, cv=5)"
   ]
  },
  {
   "cell_type": "code",
   "execution_count": 17,
   "metadata": {},
   "outputs": [
    {
     "data": {
      "image/png": "[encoded data removed]",
      "text/plain": [
       "<Figure size 720x360 with 2 Axes>"
      ]
     },
     "metadata": {
      "needs_background": "light"
     },
     "output_type": "display_data"
    },
    {
     "name": "stdout",
     "output_type": "stream",
     "text": [
      "Accuracy Score: 0.6685368742597095\n"
     ]
    }
   ],
   "source": [
    "# Predict the review classification based on the training data\n",
    "y_pred = svc.predict(x_train)\n",
    "\n",
    "# create heatmap of confusion matrix\n",
    "plt.figure(figsize=(10,5))\n",
    "sns.heatmap(confusion_matrix(y_train, y_pred), annot=True, fmt='g')\n",
    "\n",
    "plt.ylabel('True Label')\n",
    "plt.xlabel('Predicted Label')\n",
    "plt.title('Confusion Matrix')\n",
    "\n",
    "plt.show()\n",
    "\n",
    "# Print Accuracy Score\n",
    "print('Accuracy Score: {}'.format(accuracy_score(y_train, y_pred)))"
   ]
  },
  {
   "cell_type": "markdown",
   "metadata": {},
   "source": [
    "## Model 3: PCA\n",
    "The PCA of all the features will be calculated. 5 components will be selected due to the eigenvalues. Note that because the features are all boolean ie. 0 or 1 there is no need to normalize the data. This model performed better than the previous two models. The cross validation was similar to the previous two models but the accuracy score was much better. Unfortunately, the accuracy dropped drastically with the test data."
   ]
  },
  {
   "cell_type": "code",
   "execution_count": 23,
   "metadata": {},
   "outputs": [
    {
     "name": "stdout",
     "output_type": "stream",
     "text": [
      "Number of Components: 5\n"
     ]
    }
   ],
   "source": [
    "X = df.drop(['title', 'rating'], axis=1)\n",
    "Y = df['rating']\n",
    "\n",
    "from sklearn.decomposition import PCA\n",
    "\n",
    "# Transpose X\n",
    "Xt = X.T\n",
    "Cx = np.cov(Xt)\n",
    "\n",
    "# Calculate the eigenvalues and eigenvectors\n",
    "eig_val, eig_vec = np.linalg.eig(Cx)\n",
    "\n",
    "components = 0\n",
    "for x in eig_val:\n",
    "    if x > 1:\n",
    "        components += 1\n",
    "\n",
    "print('Number of Components: {}'.format(components))"
   ]
  },
  {
   "cell_type": "code",
   "execution_count": 24,
   "metadata": {},
   "outputs": [
    {
     "name": "stdout",
     "output_type": "stream",
     "text": [
      "The percentage of total variance in the dataset explained by the total components from Sklearn PCA.\n",
      " 0.9999999999535611\n"
     ]
    }
   ],
   "source": [
    "# All components above 1 selected for PCA\n",
    "sklearn_pca = PCA(n_components=5)\n",
    "X = sklearn_pca.fit_transform(X)\n",
    "\n",
    "# Print the percentage for each component\n",
    "print(\n",
    "    'The percentage of total variance in the dataset explained by the total',\n",
    "    'components from Sklearn PCA.\\n',\n",
    "    sklearn_pca.explained_variance_ratio_.sum())"
   ]
  },
  {
   "cell_type": "code",
   "execution_count": 25,
   "metadata": {},
   "outputs": [
    {
     "data": {
      "text/plain": [
       "array([0.68785047, 0.69127726, 0.68662301, 0.69130028, 0.68880574])"
      ]
     },
     "execution_count": 25,
     "metadata": {},
     "output_type": "execute_result"
    }
   ],
   "source": [
    "# Split the data between test and train sets\n",
    "x_train, x_test, y_train, y_test = train_test_split(X, Y,\n",
    "        test_size=.2, random_state=1)\n",
    "\n",
    "svc.fit(x_train, y_train)\n",
    "\n",
    "cross_val_score(svc, x_train, y_train, cv=5)"
   ]
  },
  {
   "cell_type": "code",
   "execution_count": 26,
   "metadata": {},
   "outputs": [
    {
     "data": {
      "image/png": "[encoded data removed]",
      "text/plain": [
       "<Figure size 720x360 with 2 Axes>"
      ]
     },
     "metadata": {
      "needs_background": "light"
     },
     "output_type": "display_data"
    },
    {
     "name": "stdout",
     "output_type": "stream",
     "text": [
      "Accuracy Score: 0.9849136587494545\n"
     ]
    }
   ],
   "source": [
    "# Predict the review classification based on the training data\n",
    "y_pred = svc.predict(x_train)\n",
    "\n",
    "# create heatmap of confusion matrix\n",
    "plt.figure(figsize=(10,5))\n",
    "sns.heatmap(confusion_matrix(y_train, y_pred), annot=True, fmt='g')\n",
    "\n",
    "plt.ylabel('True Label')\n",
    "plt.xlabel('Predicted Label')\n",
    "plt.title('Confusion Matrix')\n",
    "\n",
    "plt.show()\n",
    "\n",
    "# Print Accuracy Score\n",
    "print('Accuracy Score: {}'.format(accuracy_score(y_train, y_pred)))"
   ]
  },
  {
   "cell_type": "markdown",
   "metadata": {},
   "source": [
    "#### Test Data Results"
   ]
  },
  {
   "cell_type": "code",
   "execution_count": 27,
   "metadata": {},
   "outputs": [
    {
     "data": {
      "text/plain": [
       "array([0.6778607 , 0.67372354, 0.67372354, 0.6762142 , 0.67919799])"
      ]
     },
     "execution_count": 27,
     "metadata": {},
     "output_type": "execute_result"
    }
   ],
   "source": [
    "cross_val_score(svc, x_test, y_test, cv=5)"
   ]
  },
  {
   "cell_type": "code",
   "execution_count": 28,
   "metadata": {},
   "outputs": [
    {
     "data": {
      "image/png": "[encoded data removed]",
      "text/plain": [
       "<Figure size 720x360 with 2 Axes>"
      ]
     },
     "metadata": {
      "needs_background": "light"
     },
     "output_type": "display_data"
    },
    {
     "name": "stdout",
     "output_type": "stream",
     "text": [
      "Accuracy Score: 0.7152829718274745\n"
     ]
    }
   ],
   "source": [
    "y_pred = svc.predict(x_test)\n",
    "\n",
    "# create heatmap of confusion matrix\n",
    "plt.figure(figsize=(10,5))\n",
    "sns.heatmap(confusion_matrix(y_test, y_pred), annot=True, fmt='g')\n",
    "\n",
    "plt.ylabel('True Label')\n",
    "plt.xlabel('Predicted Label')\n",
    "plt.title('Confusion Matrix')\n",
    "\n",
    "plt.show()\n",
    "\n",
    "# Print Accuracy Score\n",
    "print('Accuracy Score: {}'.format(accuracy_score(y_test, y_pred)))"
   ]
  },
  {
   "cell_type": "markdown",
   "metadata": {},
   "source": [
    "## Oversampling to 4 Star Rating Population Count\n",
    "The samples of each rating will be oversampled to match the count of 4 star reviews. "
   ]
  },
  {
   "cell_type": "code",
   "execution_count": 29,
   "metadata": {},
   "outputs": [],
   "source": [
    "# Class count\n",
    "four, five, zero, three, two, one = df['rating'].value_counts()\n",
    "\n",
    "# Divide by class\n",
    "df_zero = df[df['rating']==0]\n",
    "df_one = df[df['rating']==1]\n",
    "df_two = df[df['rating']==2]\n",
    "df_three = df[df['rating']==3]\n",
    "df_four = df[df['rating']==4]\n",
    "df_five = df[df['rating']==5]"
   ]
  },
  {
   "cell_type": "code",
   "execution_count": 30,
   "metadata": {},
   "outputs": [
    {
     "data": {
      "text/plain": [
       "4    13188\n",
       "5     2719\n",
       "0     1836\n",
       "3     1489\n",
       "2      656\n",
       "1      164\n",
       "Name: rating, dtype: int64"
      ]
     },
     "execution_count": 30,
     "metadata": {},
     "output_type": "execute_result"
    }
   ],
   "source": [
    "# Count of each review\n",
    "df['rating'].value_counts()"
   ]
  },
  {
   "cell_type": "code",
   "execution_count": 31,
   "metadata": {},
   "outputs": [
    {
     "data": {
      "text/plain": [
       "5    13188\n",
       "4    13188\n",
       "3    13188\n",
       "2    13188\n",
       "1    13188\n",
       "0    13188\n",
       "Name: rating, dtype: int64"
      ]
     },
     "execution_count": 31,
     "metadata": {},
     "output_type": "execute_result"
    }
   ],
   "source": [
    "# Increase sample of each review\n",
    "df_zero_over = df_zero.sample(four, replace=True)\n",
    "df_one_over = df_one.sample(four, replace=True)\n",
    "df_two_over = df_two.sample(four, replace=True)\n",
    "df_three_over = df_three.sample(four, replace=True)\n",
    "df_five_over = df_five.sample(four, replace=True)\n",
    "\n",
    "# Append to dataframe\n",
    "df_over = pd.concat([df_four, df_zero_over, df_one_over, df_two_over, df_three_over, df_five_over], axis=0)\n",
    "\n",
    "# New count of each values\n",
    "df_over['rating'].value_counts()"
   ]
  },
  {
   "cell_type": "markdown",
   "metadata": {},
   "source": [
    "## Model 4: PCA with Over Sampled Data\n",
    "This model performed the best. The accuracy score of both the test and train data was over .99. The cross validation score was also excellent. In the training data, the cross validation score was .98, while in the testing data it was .83. The drop in the cross validation score between the train and test data could indicate that this model is overfitted, but it did remove the issue with the type 1 errors. "
   ]
  },
  {
   "cell_type": "code",
   "execution_count": 32,
   "metadata": {},
   "outputs": [
    {
     "name": "stdout",
     "output_type": "stream",
     "text": [
      "Number of Components: 5\n"
     ]
    }
   ],
   "source": [
    "X = df_over.drop(['title', 'rating'], axis=1)\n",
    "Y = df_over['rating']\n",
    "\n",
    "# Transpose X\n",
    "Xt = X.T\n",
    "Cx = np.cov(Xt)\n",
    "\n",
    "# Calculate the eigenvalues and eigenvectors\n",
    "eig_val, eig_vec = np.linalg.eig(Cx)\n",
    "\n",
    "components = 0\n",
    "for x in eig_val:\n",
    "    if x > 1:\n",
    "        components += 1\n",
    "\n",
    "print('Number of Components: {}'.format(components))"
   ]
  },
  {
   "cell_type": "code",
   "execution_count": 33,
   "metadata": {},
   "outputs": [
    {
     "name": "stdout",
     "output_type": "stream",
     "text": [
      "The percentage of total variance in the dataset explained by the total components from Sklearn PCA.\n",
      " 0.9999999998519045\n"
     ]
    }
   ],
   "source": [
    "# All components above 1 selected for PCA\n",
    "sklearn_pca = PCA(n_components=5)\n",
    "X = sklearn_pca.fit_transform(X)\n",
    "\n",
    "# Print the percentage for each component\n",
    "print(\n",
    "    'The percentage of total variance in the dataset explained by the total',\n",
    "    'components from Sklearn PCA.\\n',\n",
    "    sklearn_pca.explained_variance_ratio_.sum())"
   ]
  },
  {
   "cell_type": "code",
   "execution_count": 34,
   "metadata": {},
   "outputs": [
    {
     "data": {
      "text/plain": [
       "array([0.98562628, 0.9849155 , 0.9862581 , 0.98625484, 0.98317137])"
      ]
     },
     "execution_count": 34,
     "metadata": {},
     "output_type": "execute_result"
    }
   ],
   "source": [
    "# Split the data between test and train sets\n",
    "x_train, x_test, y_train, y_test = train_test_split(X, Y,\n",
    "        test_size=.2, random_state=1)\n",
    "\n",
    "# Fit the training data\n",
    "svc.fit(x_train, y_train)\n",
    "\n",
    "# Print cross validation score of 5 folds\n",
    "cross_val_score(svc, x_train, y_train, cv=5)"
   ]
  },
  {
   "cell_type": "code",
   "execution_count": 35,
   "metadata": {},
   "outputs": [
    {
     "data": {
      "image/png": "[encoded data removed]",
      "text/plain": [
       "<Figure size 720x360 with 2 Axes>"
      ]
     },
     "metadata": {
      "needs_background": "light"
     },
     "output_type": "display_data"
    },
    {
     "name": "stdout",
     "output_type": "stream",
     "text": [
      "Accuracy Score: 0.9961296641496319\n"
     ]
    }
   ],
   "source": [
    "# Predict the review classification based on the training data\n",
    "y_pred = svc.predict(x_train)\n",
    "\n",
    "# create heatmap of confusion matrix\n",
    "plt.figure(figsize=(10,5))\n",
    "sns.heatmap(confusion_matrix(y_train, y_pred), annot=True, fmt='g')\n",
    "\n",
    "plt.ylabel('True Label')\n",
    "plt.xlabel('Predicted Label')\n",
    "plt.title('Confusion Matrix')\n",
    "\n",
    "plt.show()\n",
    "\n",
    "# Print Accuracy Score\n",
    "print('Accuracy Score: {}'.format(accuracy_score(y_train, y_pred)))"
   ]
  },
  {
   "cell_type": "markdown",
   "metadata": {},
   "source": [
    "#### Test Data"
   ]
  },
  {
   "cell_type": "code",
   "execution_count": 36,
   "metadata": {},
   "outputs": [
    {
     "data": {
      "text/plain": [
       "array([0.84175616, 0.8357549 , 0.8436513 , 0.83033175, 0.83022447])"
      ]
     },
     "execution_count": 36,
     "metadata": {},
     "output_type": "execute_result"
    }
   ],
   "source": [
    "# Print cross validation score of test data\n",
    "cross_val_score(svc, x_test, y_test, cv=5)"
   ]
  },
  {
   "cell_type": "code",
   "execution_count": 37,
   "metadata": {},
   "outputs": [
    {
     "data": {
      "image/png": "[encoded data removed]",
      "text/plain": [
       "<Figure size 720x360 with 2 Axes>"
      ]
     },
     "metadata": {
      "needs_background": "light"
     },
     "output_type": "display_data"
    },
    {
     "name": "stdout",
     "output_type": "stream",
     "text": [
      "Accuracy Score: 0.9912801718690762\n"
     ]
    }
   ],
   "source": [
    "y_pred = svc.predict(x_test)\n",
    "\n",
    "# create heatmap of confusion matrix\n",
    "plt.figure(figsize=(10,5))\n",
    "sns.heatmap(confusion_matrix(y_test, y_pred), annot=True, fmt='g')\n",
    "\n",
    "plt.ylabel('True Label')\n",
    "plt.xlabel('Predicted Label')\n",
    "plt.title('Confusion Matrix')\n",
    "\n",
    "plt.show()\n",
    "\n",
    "# Print Accuracy Score\n",
    "print('Accuracy Score: {}'.format(accuracy_score(y_test, y_pred)))"
   ]
  },
  {
   "cell_type": "markdown",
   "metadata": {},
   "source": [
    "## Over and Under Sampled Data\n",
    "The results of the oversampled data were excellent. There was an increase in accuracy for both the train and test group. The amount of Type 1 errors for 4 star reviews decreased drastically between both groups. The only issue is that the model is slightly overfitted as cross validation of the model dropped from .98 to .83. This overfitment could be due to the large increase in the minority classes. Undersampling would not work in this case due to the lack of samples in the minority groups. Lets see what happens to the model when the data is both over and under sampled to say 2000 reviews each. "
   ]
  },
  {
   "cell_type": "code",
   "execution_count": 38,
   "metadata": {},
   "outputs": [
    {
     "data": {
      "text/plain": [
       "5    2719\n",
       "4    2719\n",
       "3    2719\n",
       "2    2719\n",
       "1    2719\n",
       "0    2719\n",
       "Name: rating, dtype: int64"
      ]
     },
     "execution_count": 38,
     "metadata": {},
     "output_type": "execute_result"
    }
   ],
   "source": [
    "# Increase and decrease samples\n",
    "df_zero_over = df_zero.sample(five, replace=True)\n",
    "df_one_over = df_one.sample(five, replace=True)\n",
    "df_two_over = df_two.sample(five, replace=True)\n",
    "df_three_over = df_three.sample(five, replace=True)\n",
    "df_four_under = df_four.sample(five, replace=True)\n",
    "\n",
    "# Concat to dataframe\n",
    "df_both = pd.concat([df_five, df_zero_over, df_one_over, df_two_over, df_three_over, df_four_under], axis=0)\n",
    "\n",
    "# Print Count of each review rating\n",
    "df_both['rating'].value_counts()"
   ]
  },
  {
   "cell_type": "markdown",
   "metadata": {},
   "source": [
    "## Model 5: PCA with Over and Under Sampled Data\n",
    "The data in this model is overfitted. The cross validation score dropped drastically from .74 down to .47. Furthermore, the accuracy of the train and test data also dropped. The training data performed well will 99% accuracy but the test data only had a 76% accuracy score with the majority of the errors being a Type 1 error for review rating 4.  "
   ]
  },
  {
   "cell_type": "code",
   "execution_count": 39,
   "metadata": {},
   "outputs": [
    {
     "name": "stdout",
     "output_type": "stream",
     "text": [
      "Number of Components: 5\n"
     ]
    }
   ],
   "source": [
    "X = df_both.drop(['title', 'rating'], axis=1)\n",
    "Y = df_both['rating']\n",
    "\n",
    "# Transpose X\n",
    "Xt = X.T\n",
    "Cx = np.cov(Xt)\n",
    "\n",
    "# Calculate the eigenvalues and eigenvectors\n",
    "eig_val, eig_vec = np.linalg.eig(Cx)\n",
    "\n",
    "components = 0\n",
    "for x in eig_val:\n",
    "    if x > 1:\n",
    "        components += 1\n",
    "\n",
    "print('Number of Components: {}'.format(components))"
   ]
  },
  {
   "cell_type": "code",
   "execution_count": 40,
   "metadata": {},
   "outputs": [
    {
     "name": "stdout",
     "output_type": "stream",
     "text": [
      "The percentage of total variance in the dataset explained by the total components from Sklearn PCA.\n",
      " 0.9999999994955788\n"
     ]
    }
   ],
   "source": [
    "# All components above 1 selected for PCA\n",
    "sklearn_pca = PCA(n_components=5)\n",
    "X = sklearn_pca.fit_transform(X)\n",
    "\n",
    "# Print the percentage for each component\n",
    "print(\n",
    "    'The percentage of total variance in the dataset explained by the total',\n",
    "    'components from Sklearn PCA.\\n',\n",
    "    sklearn_pca.explained_variance_ratio_.sum())"
   ]
  },
  {
   "cell_type": "code",
   "execution_count": 41,
   "metadata": {},
   "outputs": [
    {
     "data": {
      "text/plain": [
       "array([0.73861462, 0.73343547, 0.72988506, 0.75239555, 0.74731595])"
      ]
     },
     "execution_count": 41,
     "metadata": {},
     "output_type": "execute_result"
    }
   ],
   "source": [
    "# Split the data between test and train sets\n",
    "x_train, x_test, y_train, y_test = train_test_split(X, Y,\n",
    "        test_size=.2, random_state=1)\n",
    "\n",
    "# Fit the training data\n",
    "svc.fit(x_train, y_train)\n",
    "\n",
    "# Cross validation with 5 folds\n",
    "cross_val_score(svc, x_train, y_train, cv=5)"
   ]
  },
  {
   "cell_type": "code",
   "execution_count": 42,
   "metadata": {},
   "outputs": [
    {
     "data": {
      "image/png": "[encoded data removed]",
      "text/plain": [
       "<Figure size 720x360 with 2 Axes>"
      ]
     },
     "metadata": {
      "needs_background": "light"
     },
     "output_type": "display_data"
    },
    {
     "name": "stdout",
     "output_type": "stream",
     "text": [
      "Accuracy Score: 0.9947896712895563\n"
     ]
    }
   ],
   "source": [
    "# Predict the review classification based on the training data\n",
    "y_pred = svc.predict(x_train)\n",
    "\n",
    "# create heatmap of confusion matrix\n",
    "plt.figure(figsize=(10,5))\n",
    "sns.heatmap(confusion_matrix(y_train, y_pred), annot=True, fmt='g')\n",
    "\n",
    "plt.ylabel('True Label')\n",
    "plt.xlabel('Predicted Label')\n",
    "plt.title('Confusion Matrix')\n",
    "\n",
    "plt.show()\n",
    "\n",
    "# Print Accuracy Score\n",
    "print('Accuracy Score: {}'.format(accuracy_score(y_train, y_pred)))"
   ]
  },
  {
   "cell_type": "markdown",
   "metadata": {},
   "source": [
    "#### Test Data"
   ]
  },
  {
   "cell_type": "code",
   "execution_count": 43,
   "metadata": {
    "scrolled": true
   },
   "outputs": [
    {
     "data": {
      "text/plain": [
       "array([0.46870229, 0.51376147, 0.50842266, 0.49769585, 0.51692308])"
      ]
     },
     "execution_count": 43,
     "metadata": {},
     "output_type": "execute_result"
    }
   ],
   "source": [
    "# Cross validation with test data\n",
    "cross_val_score(svc, x_test, y_test, cv=5)"
   ]
  },
  {
   "cell_type": "code",
   "execution_count": 44,
   "metadata": {},
   "outputs": [
    {
     "data": {
      "image/png": "[encoded data removed]",
      "text/plain": [
       "<Figure size 720x360 with 2 Axes>"
      ]
     },
     "metadata": {
      "needs_background": "light"
     },
     "output_type": "display_data"
    },
    {
     "name": "stdout",
     "output_type": "stream",
     "text": [
      "Accuracy Score: 0.7695372356726938\n"
     ]
    }
   ],
   "source": [
    "y_pred = svc.predict(x_test)\n",
    "\n",
    "# create heatmap of confusion matrix\n",
    "plt.figure(figsize=(10,5))\n",
    "sns.heatmap(confusion_matrix(y_test, y_pred), annot=True, fmt='g')\n",
    "\n",
    "plt.ylabel('True Label')\n",
    "plt.xlabel('Predicted Label')\n",
    "plt.title('Confusion Matrix')\n",
    "\n",
    "plt.show()\n",
    "\n",
    "# Print Accuracy Score\n",
    "print('Accuracy Score: {}'.format(accuracy_score(y_test, y_pred)))"
   ]
  },
  {
   "cell_type": "markdown",
   "metadata": {},
   "source": [
    "## Summary and Conclusion\n",
    "The models were drastically improved from the original model. The top 30 features model performed the same as the original model but the PCA model improved the accuracy of the training data. Unfortunately, it did not perform well with the test data and was overfitted. Out of all the models the best model was model 4, the oversampled PCA, this model correctly predicted the ratings of the data within a 99% accuracy. This model should be used for predicting the reviews of new reciepes added to the epirecipes website. "
   ]
  },
  {
   "cell_type": "markdown",
   "metadata": {},
   "source": [
    "## References\n",
    "Data - https://kaggle.com/hugodarwood/epirecipes"
   ]
  }
 ],
 "metadata": {
  "kernelspec": {
   "display_name": "Python 3",
   "language": "python",
   "name": "python3"
  },
  "language_info": {
   "codemirror_mode": {
    "name": "ipython",
    "version": 3
   },
   "file_extension": ".py",
   "mimetype": "text/x-python",
   "name": "python",
   "nbconvert_exporter": "python",
   "pygments_lexer": "ipython3",
   "version": "3.7.3"
  }
 },
 "nbformat": 4,
 "nbformat_minor": 2
}
