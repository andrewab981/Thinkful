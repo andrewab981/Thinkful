{
 "cells": [
  {
   "cell_type": "code",
   "execution_count": 1,
   "metadata": {},
   "outputs": [],
   "source": [
    "import pandas as pd\n",
    "import numpy as np"
   ]
  },
  {
   "cell_type": "code",
   "execution_count": 2,
   "metadata": {},
   "outputs": [],
   "source": [
    "def add_features(df):\n",
    "    \"\"\"Add additional features to the OHLCV dataframes\n",
    "    Parameters: (dataframe) to add features to\n",
    "    Return 20, 50, 200 moving averages; bollinger bands; \n",
    "    and average volume\"\"\"\n",
    "\n",
    "    # Create features for 20, 50, 200 moving averages\n",
    "    df['20MA'] = df['close'].rolling(window=20).mean()\n",
    "    df['50MA'] = df['close'].rolling(window=50).mean()\n",
    "    df['200MA'] = df['close'].rolling(window=200).mean()\n",
    "\n",
    "    # Create features for upper and lower bollinger bands\n",
    "    df['20_day_std'] = df['close'].rolling(window=20).std()\n",
    "    df['upper_band'] = df['20MA'] + (df['20_day_std']*2)\n",
    "    df['lower_band'] = df['20MA'] - (df['20_day_std']*2)\n",
    "    df['width_%'] = ((df['upper_band']-\n",
    "                              df['lower_band'])/df['20MA']) * 100\n",
    "\n",
    "    # Create feature for average volume\n",
    "    df['avg_volume'] = df['volume'].rolling(window=20).mean()\n",
    "    \n",
    "    return df"
   ]
  }
 ],
 "metadata": {
  "kernelspec": {
   "display_name": "Python 3",
   "language": "python",
   "name": "python3"
  },
  "language_info": {
   "codemirror_mode": {
    "name": "ipython",
    "version": 3
   },
   "file_extension": ".py",
   "mimetype": "text/x-python",
   "name": "python",
   "nbconvert_exporter": "python",
   "pygments_lexer": "ipython3",
   "version": "3.7.3"
  }
 },
 "nbformat": 4,
 "nbformat_minor": 2
}
