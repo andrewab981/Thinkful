{
 "cells": [
  {
   "cell_type": "markdown",
   "metadata": {},
   "source": [
    "# Summary Statistics\n",
    "In this assignment a list of the Brady bunch kids will be generated. Several summary statistics tools will be used to analyze the ages of the kids. "
   ]
  },
  {
   "cell_type": "code",
   "execution_count": 1,
   "metadata": {},
   "outputs": [],
   "source": [
    "import numpy as np\n",
    "import pandas as pd\n",
    "import matplotlib.pyplot as plt\n",
    "import statistics\n",
    "\n",
    "%matplotlib inline"
   ]
  },
  {
   "cell_type": "markdown",
   "metadata": {},
   "source": [
    "1. Calulate the mean, median, mode, variance, std deviation, and std error of the kids ages. "
   ]
  },
  {
   "cell_type": "code",
   "execution_count": 2,
   "metadata": {},
   "outputs": [
    {
     "name": "stdout",
     "output_type": "stream",
     "text": [
      "            name  age\n",
      "0           Greg   14\n",
      "1         Marcia   12\n",
      "2           Pete   11\n",
      "3            Jan   10\n",
      "4          Bobby    8\n",
      "5          Cindy    6\n",
      "6  Cousin Oliver    8\n",
      "The mean is 9.857142857142858\n",
      "The median is 10.0\n",
      "The mode is 8\n",
      "The variance is 6.408163265306122\n",
      "The standard deviation is 2.531435020952764\n",
      "The standard error is 0.9567925036515135 \n"
     ]
    }
   ],
   "source": [
    "#create the dataframe for the brady bunch kids \n",
    "kids = pd.DataFrame()\n",
    "\n",
    "kids['name'] = ['Greg', 'Marcia', 'Pete', 'Jan', 'Bobby', 'Cindy', 'Cousin Oliver']\n",
    "kids['age'] = [14, 12, 11, 10, 8, 6, 8]\n",
    "\n",
    "print(kids)\n",
    "\n",
    "#ouput the statistics of their ages when they appeared on the show\n",
    "print(\"The mean is {}\".format(np.mean(kids['age'])))\n",
    "print(\"The median is {}\".format(np.median(kids['age'])))\n",
    "print(\"The mode is {}\".format(statistics.mode(kids['age'])))\n",
    "print(\"The variance is {}\".format(np.var(kids['age'])))\n",
    "print(\"The standard deviation is {}\".format(np.std(kids['age'])))\n",
    "print(\"The standard error is {} \".format(np.std(kids['age'] / np.sqrt(len(kids['age'])))))"
   ]
  },
  {
   "cell_type": "markdown",
   "metadata": {},
   "source": [
    "2. If I had to choose one estimate of central tendency and one estimate of variance to describe the data it would be the mean and the standard deviation. The mean is the average of the data set and since it is close to the median it is appropriate. The standard deviaiton gives the age distance from each standard deviation in the bell curve. It reflects the changes in each step of the age gap. "
   ]
  },
  {
   "cell_type": "markdown",
   "metadata": {},
   "source": [
    "3. Update Cindy's age to reflect her birthday."
   ]
  },
  {
   "cell_type": "code",
   "execution_count": 3,
   "metadata": {},
   "outputs": [
    {
     "name": "stdout",
     "output_type": "stream",
     "text": [
      "            name  age\n",
      "0           Greg   14\n",
      "1         Marcia   12\n",
      "2           Pete   11\n",
      "3            Jan   10\n",
      "4          Bobby    8\n",
      "5          Cindy    7\n",
      "6  Cousin Oliver    8\n"
     ]
    }
   ],
   "source": [
    "#This changes Cindy's age to 7 to reflect her birthday. \n",
    "kids.loc[kids['name'] == 'Cindy', ['age']] = 7\n",
    "print(kids)"
   ]
  },
  {
   "cell_type": "markdown",
   "metadata": {},
   "source": [
    "4. Replace 'Cousin Oliver' with 1 year old Jessica. recalculate the statistics."
   ]
  },
  {
   "cell_type": "code",
   "execution_count": 4,
   "metadata": {
    "scrolled": true
   },
   "outputs": [
    {
     "name": "stdout",
     "output_type": "stream",
     "text": [
      "      name  age\n",
      "0     Greg   14\n",
      "1   Marcia   12\n",
      "2     Pete   11\n",
      "3      Jan   10\n",
      "4    Bobby    8\n",
      "5    Cindy    7\n",
      "6  Jessica    1\n",
      "The mean is 9.0\n",
      "The median is 10.0\n",
      "There is no mode\n",
      "The variance is 15.428571428571429\n",
      "The standard deviation is 3.927922024247863\n",
      "The standard error is 1.4846149779161804 \n"
     ]
    }
   ],
   "source": [
    "#this located the kids with the name Cousin Olive and replaces it with Jessica. Additionally it changes the age of Jessica.\n",
    "kids.loc[kids['name'] == 'Cousin Oliver', ['name']] = 'Jessica'\n",
    "kids.loc[kids['name'] == 'Jessica', ['age']] = 1\n",
    "print(kids)\n",
    "\n",
    "print(\"The mean is {}\".format(np.mean(kids['age'])))\n",
    "print(\"The median is {}\".format(np.median(kids['age'])))\n",
    "\n",
    "#Due to no similar ages in the brady kids, a statistics error is gernerated if the mode function is used. This is my workaround\n",
    "try: \n",
    "    print(\"The mode is {}\".format(statistics.mode(kids['age'])))\n",
    "except statistics.StatisticsError:\n",
    "    print(\"There is no mode\")\n",
    "\n",
    "\n",
    "print(\"The variance is {}\".format(np.var(kids['age'])))\n",
    "print(\"The standard deviation is {}\".format(np.std(kids['age'])))\n",
    "print(\"The standard error is {} \".format(np.std(kids['age'] / np.sqrt(len(kids['age'])))))"
   ]
  },
  {
   "cell_type": "markdown",
   "metadata": {},
   "source": [
    "5. The SciPhi Phanactic sample was removed because the population was not similar to the general magizines. "
   ]
  },
  {
   "cell_type": "code",
   "execution_count": 5,
   "metadata": {},
   "outputs": [
    {
     "name": "stdout",
     "output_type": "stream",
     "text": [
      "The percentage of adult Americans that are fans of the Brady Bunch on its 50th anniversity is 20.0%.\n"
     ]
    }
   ],
   "source": [
    "#Created a quick list to calculate the mean. \n",
    "reader_fans = [20, 23, 17]\n",
    "print(\"The percentage of adult Americans that are fans of the Brady Bunch on its 50th anniversity is {}%.\".format(np.mean(reader_fans)))"
   ]
  }
 ],
 "metadata": {
  "kernelspec": {
   "display_name": "Python 3",
   "language": "python",
   "name": "python3"
  },
  "language_info": {
   "codemirror_mode": {
    "name": "ipython",
    "version": 3
   },
   "file_extension": ".py",
   "mimetype": "text/x-python",
   "name": "python",
   "nbconvert_exporter": "python",
   "pygments_lexer": "ipython3",
   "version": "3.7.3"
  }
 },
 "nbformat": 4,
 "nbformat_minor": 2
}
