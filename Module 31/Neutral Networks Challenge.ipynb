{
 "cells": [
  {
   "cell_type": "markdown",
   "metadata": {},
   "source": [
    "# Introduction\n",
    "Use RBM to perform feature extraction on an image-based dataset that you find or create. If you go this route, present the features you extract and explain why this is a useful feature extraction method in the context you’re operating in. DO NOT USE either the MNIST digit recognition database or the iris data set. They’ve been worked on in very public ways very very many times and the code is easily available. (However, that code could be a useful resource to refer to).\n",
    "\n",
    "## Import the Data and Cleaning\n",
    "\n",
    "https://www.kaggle.com/paultimothymooney/chest-xray-pneumonia"
   ]
  },
  {
   "cell_type": "code",
   "execution_count": 1,
   "metadata": {},
   "outputs": [],
   "source": [
    "import numpy as np\n",
    "import pandas as pd\n",
    "import matplotlib.pyplot as plt\n",
    "import os\n",
    "import cv2\n",
    "import random\n",
    "from sklearn.neural_network import BernoulliRBM\n",
    "from sklearn.model_selection import cross_val_score\n",
    "from sklearn.metrics import accuracy_score\n",
    "import seaborn as sns\n",
    "import time\n",
    "from sklearn.metrics import confusion_matrix\n",
    "from sklearn.pipeline import Pipeline\n",
    "from sklearn import linear_model\n",
    "from imblearn.over_sampling import SMOTE\n",
    "from sklearn.preprocessing import normalize\n",
    "\n",
    "%matplotlib inline"
   ]
  },
  {
   "cell_type": "code",
   "execution_count": 2,
   "metadata": {},
   "outputs": [],
   "source": [
    "def load_lungs(data_path, categories, img_size):\n",
    "    \"\"\"Build dataset of x-rays\n",
    "    Parameters:\n",
    "    data_path(str): file location\n",
    "    categories(str): folders within file location\n",
    "    img_size(int): dimensions of image\n",
    "    \n",
    "    Returns:\n",
    "    Tuple of the data and targets\"\"\"\n",
    "    \n",
    "    data = []\n",
    "    \n",
    "    for category in categories:\n",
    "        #path to images\n",
    "        path = os.path.join(data_path, category)\n",
    "        # image identifer 0 for normal, 1 for pneumonia\n",
    "        class_num = categories.index(category)\n",
    "        \n",
    "        for img in os.listdir(path):    \n",
    "            # append each image to array apply grayscale\n",
    "            img_array = cv2.imread(os.path.join(path, img), cv2.IMREAD_GRAYSCALE)\n",
    "            \n",
    "            # uniform image shape for all x-rays\n",
    "            new_array = cv2.resize(img_array, (img_size, img_size))\n",
    "            new_array = normalize(new_array)\n",
    "            data.append([new_array, class_num])\n",
    "    \n",
    "    # randomize the data to reduce bias\n",
    "    random.shuffle(data)\n",
    "    \n",
    "    return data"
   ]
  },
  {
   "cell_type": "code",
   "execution_count": 3,
   "metadata": {},
   "outputs": [],
   "source": [
    "def feature_target(dataset):\n",
    "    \"\"\"Append features and target variables\n",
    "    Parameters:\n",
    "    dataset(array): dataset that will be split\n",
    "    \n",
    "    Returns: X and y variables for modeling\n",
    "    \"\"\"\n",
    "    X = []\n",
    "    y = []\n",
    "\n",
    "    for features, label in dataset:\n",
    "        X.append(features)\n",
    "        y.append(label)\n",
    "    \n",
    "    X = np.array(X)\n",
    "    X = X.reshape(X.shape[0], -1)\n",
    "    \n",
    "    y = np.array(y)\n",
    "    \n",
    "    return X, y"
   ]
  },
  {
   "cell_type": "code",
   "execution_count": 4,
   "metadata": {},
   "outputs": [
    {
     "name": "stdout",
     "output_type": "stream",
     "text": [
      "Loaded 624 x-rays.\n",
      "\n",
      "--- 62.9326012134552 seconds ---\n"
     ]
    }
   ],
   "source": [
    "start_time = time.time()\n",
    "data_path = 'pneumonia_data/test'\n",
    "categories = ['NORMAL', 'PNEUMONIA']\n",
    "img_size = 750\n",
    "\n",
    "train_set = load_lungs(data_path, categories, img_size)\n",
    "print('Loaded {} x-rays.'.format(len(train_set)))\n",
    "\n",
    "X_train, y_train = feature_target(train_set)\n",
    "sm = SMOTE(random_state=1, ratio=1)\n",
    "X_train, y_train = sm.fit_sample(X_train, y_train)\n",
    "\n",
    "print(\"\\n--- %s seconds ---\" % (time.time() - start_time))"
   ]
  },
  {
   "cell_type": "code",
   "execution_count": 5,
   "metadata": {},
   "outputs": [
    {
     "name": "stdout",
     "output_type": "stream",
     "text": [
      "Loaded 16 x-rays.\n",
      "\n",
      "--- 0.25293517112731934 seconds ---\n"
     ]
    }
   ],
   "source": [
    "start_time = time.time()\n",
    "data_path = 'pneumonia_data/val'\n",
    "\n",
    "test_set = load_lungs(data_path, categories, img_size)\n",
    "print('Loaded {} x-rays.'.format(len(test_set)))\n",
    "\n",
    "X_test, y_test = feature_target(test_set)\n",
    "print(\"\\n--- %s seconds ---\" % (time.time() - start_time))"
   ]
  },
  {
   "cell_type": "code",
   "execution_count": 6,
   "metadata": {},
   "outputs": [
    {
     "name": "stderr",
     "output_type": "stream",
     "text": [
      "C:\\Users\\andre\\AppData\\Roaming\\Python\\Python37\\site-packages\\sklearn\\linear_model\\logistic.py:432: FutureWarning: Default solver will be changed to 'lbfgs' in 0.22. Specify a solver to silence this warning.\n",
      "  FutureWarning)\n"
     ]
    },
    {
     "name": "stdout",
     "output_type": "stream",
     "text": [
      "Training Set Fitted\n"
     ]
    },
    {
     "name": "stderr",
     "output_type": "stream",
     "text": [
      "C:\\Users\\andre\\AppData\\Roaming\\Python\\Python37\\site-packages\\sklearn\\linear_model\\logistic.py:432: FutureWarning: Default solver will be changed to 'lbfgs' in 0.22. Specify a solver to silence this warning.\n",
      "  FutureWarning)\n"
     ]
    }
   ],
   "source": [
    "start_time = time.time()\n",
    "\n",
    "rbm = BernoulliRBM(random_state=1, learning_rate=.1)\n",
    "logistic = linear_model.LogisticRegression()\n",
    "classifier = Pipeline(steps=[('rbm', rbm), ('logistic', logistic)])\n",
    "\n",
    "logistic = logistic.fit(X_train, y_train)\n",
    "classifier = classifier.fit(X_train, y_train)\n",
    "print('Training Set Fitted')"
   ]
  },
  {
   "cell_type": "code",
   "execution_count": 7,
   "metadata": {},
   "outputs": [
    {
     "name": "stdout",
     "output_type": "stream",
     "text": [
      "Test Set Predicted\n",
      "\n",
      "Accuracy Score of Training Set: 0.5\n",
      "\n",
      "Accuracy Score of Test Set: 0.5\n",
      "\n",
      "--- 3725.2175023555756 seconds ---\n"
     ]
    }
   ],
   "source": [
    "pred_train = classifier.predict(X_train)\n",
    "pred_test = classifier.predict(X_test)\n",
    "print('Test Set Predicted')\n",
    "\n",
    "# Print results of test and train data\n",
    "print('\\nAccuracy Score of Training Set: {}\\n'.format(accuracy_score(y_train, pred_train)))\n",
    "print('Accuracy Score of Test Set: {}'.format(accuracy_score(y_test, pred_test)))\n",
    "print(\"\\n--- %s seconds ---\" % (time.time() - start_time))  "
   ]
  },
  {
   "cell_type": "code",
   "execution_count": 8,
   "metadata": {
    "scrolled": true
   },
   "outputs": [
    {
     "name": "stdout",
     "output_type": "stream",
     "text": [
      "(780,) (780,)\n",
      "[1 1 1 1 0 0 1 0 0 0] [0 0 0 0 0 0 0 0 0 0]\n"
     ]
    },
    {
     "data": {
      "image/png": "[encoded data removed]",
      "text/plain": [
       "<Figure size 1080x360 with 4 Axes>"
      ]
     },
     "metadata": {
      "needs_background": "light"
     },
     "output_type": "display_data"
    }
   ],
   "source": [
    "# create heatmap of confusion matrix\n",
    "plt.figure(figsize=(15, 5))\n",
    "plt.subplot(2, 1, 1)\n",
    "sns.heatmap(confusion_matrix(y_train, pred_train), annot=True, fmt='g')\n",
    "\n",
    "print(y_train.shape, pred_train.shape)\n",
    "print(y_train[:10], pred_train[:10])\n",
    "\n",
    "plt.ylabel('True Label', fontweight='bold')\n",
    "plt.xlabel('Predicted Label', fontweight='bold')\n",
    "plt.title('Confusion Matrix of Training Set', fontweight='bold')\n",
    "\n",
    "plt.subplot(2, 1, 2)\n",
    "sns.heatmap(confusion_matrix(y_test, pred_test), annot=True, fmt='g')\n",
    "\n",
    "plt.ylabel('True Label', fontweight='bold')\n",
    "plt.xlabel('Predicted Label', fontweight='bold')\n",
    "plt.title('Confusion Matrix of Test Set', fontweight='bold')\n",
    "\n",
    "plt.tight_layout()\n",
    "plt.show()"
   ]
  },
  {
   "cell_type": "code",
   "execution_count": null,
   "metadata": {},
   "outputs": [],
   "source": []
  }
 ],
 "metadata": {
  "kernelspec": {
   "display_name": "Python 3",
   "language": "python",
   "name": "python3"
  },
  "language_info": {
   "codemirror_mode": {
    "name": "ipython",
    "version": 3
   },
   "file_extension": ".py",
   "mimetype": "text/x-python",
   "name": "python",
   "nbconvert_exporter": "python",
   "pygments_lexer": "ipython3",
   "version": "3.7.3"
  }
 },
 "nbformat": 4,
 "nbformat_minor": 2
}
